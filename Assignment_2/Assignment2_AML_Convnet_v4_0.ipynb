{
  "nbformat": 4,
  "nbformat_minor": 0,
  "metadata": {
    "accelerator": "GPU",
    "colab": {
      "name": "Assignment2_AML_Convnet_v4.0",
      "provenance": [],
      "collapsed_sections": [],
      "machine_shape": "hm",
      "include_colab_link": true
    },
    "kernelspec": {
      "display_name": "Python 3",
      "language": "python",
      "name": "python3"
    },
    "language_info": {
      "codemirror_mode": {
        "name": "ipython",
        "version": 3
      },
      "file_extension": ".py",
      "mimetype": "text/x-python",
      "name": "python",
      "nbconvert_exporter": "python",
      "pygments_lexer": "ipython3",
      "version": "3.7.0"
    }
  },
  "cells": [
    {
      "cell_type": "markdown",
      "metadata": {
        "id": "view-in-github",
        "colab_type": "text"
      },
      "source": [
        "<a href=\"https://colab.research.google.com/github/Janakisrija/64061/blob/main/Assignment_2/Assignment2_AML_Convnet_v4_0.ipynb\" target=\"_parent\"><img src=\"https://colab.research.google.com/assets/colab-badge.svg\" alt=\"Open In Colab\"/></a>"
      ]
    },
    {
      "cell_type": "markdown",
      "metadata": {
        "id": "M_w9GJQWLJf0"
      },
      "source": [
        "##**Assignment 2 - Deep learning for computer vision**"
      ]
    },
    {
      "cell_type": "markdown",
      "metadata": {
        "id": "QutUglegLJf8"
      },
      "source": [
        "## “Deep learning for computer vision,” convents can be used successfully to classify images. Specifically, consider the Cats & Dogs example. There were two broad approaches to classifying Cats & Dogs using convnets: Training a network from scratch, versus using a pretrained convnet. While small datasets can lead to overfitting, thus making training a network for prediction more difficult, you also saw several techniques to reduce overfitting, and these include data augmentation and regularization.\n",
        "## In this assignment, you will examine the relationship between training samples and the choice of training your model from scratch, versus using a pretrained convnet."
      ]
    },
    {
      "cell_type": "markdown",
      "metadata": {
        "id": "iBiW9ZHHLJf9"
      },
      "source": [
        "### Downloading the data"
      ]
    },
    {
      "cell_type": "code",
      "metadata": {
        "colab": {
          "resources": {
            "http://localhost:8080/nbextensions/google.colab/files.js": {
              "data": "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",
              "ok": true,
              "headers": [
                [
                  "content-type",
                  "application/javascript"
                ]
              ],
              "status": 200,
              "status_text": ""
            }
          },
          "base_uri": "https://localhost:8080/",
          "height": 90
        },
        "id": "viYjmM2HLJf9",
        "outputId": "14bafc09-e558-4a16-affb-355269cd3666"
      },
      "source": [
        "from google.colab import files\n",
        "files.upload()"
      ],
      "execution_count": 1,
      "outputs": [
        {
          "output_type": "display_data",
          "data": {
            "text/plain": [
              "<IPython.core.display.HTML object>"
            ],
            "text/html": [
              "\n",
              "     <input type=\"file\" id=\"files-d249932b-f680-44d6-9228-f3966ab20830\" name=\"files[]\" multiple disabled\n",
              "        style=\"border:none\" />\n",
              "     <output id=\"result-d249932b-f680-44d6-9228-f3966ab20830\">\n",
              "      Upload widget is only available when the cell has been executed in the\n",
              "      current browser session. Please rerun this cell to enable.\n",
              "      </output>\n",
              "      <script src=\"/nbextensions/google.colab/files.js\"></script> "
            ]
          },
          "metadata": {}
        },
        {
          "output_type": "stream",
          "name": "stdout",
          "text": [
            "Saving kaggle.json to kaggle.json\n"
          ]
        },
        {
          "output_type": "execute_result",
          "data": {
            "text/plain": [
              "{'kaggle.json': b'{\"username\":\"janakisrijamaddukuri\",\"key\":\"c34f05eb54079de369efc64450820a4c\"}'}"
            ]
          },
          "metadata": {},
          "execution_count": 1
        }
      ]
    },
    {
      "cell_type": "code",
      "metadata": {
        "id": "bnd8M_zRLJf9"
      },
      "source": [
        "!mkdir ~/.kaggle\n",
        "!cp kaggle.json ~/.kaggle/\n",
        "!chmod 600 ~/.kaggle/kaggle.json"
      ],
      "execution_count": 2,
      "outputs": []
    },
    {
      "cell_type": "code",
      "metadata": {
        "colab": {
          "base_uri": "https://localhost:8080/"
        },
        "id": "606RcoSyLJf-",
        "outputId": "a60e2ab4-990d-4ba1-9874-c4f470f6f007"
      },
      "source": [
        "!kaggle competitions download -c dogs-vs-cats"
      ],
      "execution_count": 3,
      "outputs": [
        {
          "output_type": "stream",
          "name": "stdout",
          "text": [
            "Downloading dogs-vs-cats.zip to /content\n",
            " 98% 798M/812M [00:05<00:00, 114MB/s] \n",
            "100% 812M/812M [00:05<00:00, 150MB/s]\n"
          ]
        }
      ]
    },
    {
      "cell_type": "code",
      "source": [
        "!unzip -qq dogs-vs-cats.zip"
      ],
      "metadata": {
        "id": "0gojwuRy6qKx"
      },
      "execution_count": 4,
      "outputs": []
    },
    {
      "cell_type": "code",
      "metadata": {
        "id": "y8UWwdXcMOcE"
      },
      "source": [
        "!unzip -qq test1.zip"
      ],
      "execution_count": 5,
      "outputs": []
    },
    {
      "cell_type": "code",
      "metadata": {
        "id": "ABcoW4YHHkgU"
      },
      "source": [
        "!unzip -qq train.zip"
      ],
      "execution_count": 6,
      "outputs": []
    },
    {
      "cell_type": "code",
      "metadata": {
        "id": "YlOppXz1J48i"
      },
      "source": [
        "#shutil.rmtree(\"./cats_vs_dogs_small\", ignore_errors=True)\n",
        "#shutil.rmtree(\"./test1\", ignore_errors=True)\n",
        "#shutil.rmtree(\"./train\", ignore_errors=True)\n"
      ],
      "execution_count": null,
      "outputs": []
    },
    {
      "cell_type": "markdown",
      "metadata": {
        "id": "y_d0PlVSTP3P"
      },
      "source": [
        "# Q1. Consider the Cats & Dogs example. Start initially with a training sample of 1000, a validation sample of 500, and a test sample of 500 (like in the text). Use any technique to reduce overfitting and improve performance in developing a network that you train from scratch. What performance did you achieve?"
      ]
    },
    {
      "cell_type": "markdown",
      "metadata": {
        "id": "yOSrvzI-9cVW"
      },
      "source": [
        "#### Test Accuracy - 74.8%\n",
        "\n",
        "#### Training Accuraccy - 98.35%\n",
        "\n",
        "#### Validation Accuracy - 74.00%"
      ]
    },
    {
      "cell_type": "markdown",
      "metadata": {
        "id": "cTtWpwnPz7b5"
      },
      "source": [
        "**Copying images to training, validation, and test directories**"
      ]
    },
    {
      "cell_type": "code",
      "metadata": {
        "id": "mkM9Kg1uLJf-"
      },
      "source": [
        "import os, shutil, pathlib\n",
        "\n",
        "original_dir = pathlib.Path(\"train\")\n",
        "new_base_dir = pathlib.Path(\"cats_vs_dogs_small\")\n",
        "\n",
        "def make_subset(subset_name, start_index, end_index):\n",
        "    for category in (\"cat\", \"dog\"):\n",
        "        dir = new_base_dir / subset_name / category\n",
        "        os.makedirs(dir)\n",
        "        fnames = [f\"{category}.{i}.jpg\" for i in range(start_index, end_index)]\n",
        "        for fname in fnames:\n",
        "            shutil.copyfile(src=original_dir / fname,\n",
        "                            dst=dir / fname)\n",
        "#Creating training, Test and validation sets.\n",
        "#Training has 1000 samples, test has 500 samples and validation has 500 samples.\n",
        "make_subset(\"train\", start_index=0, end_index=1000)\n",
        "make_subset(\"validation\", start_index=1000, end_index=1500)\n",
        "make_subset(\"test\", start_index=1500, end_index=2000)"
      ],
      "execution_count": 7,
      "outputs": []
    },
    {
      "cell_type": "markdown",
      "metadata": {
        "id": "A0Kl-Y9HuD5-"
      },
      "source": [
        "##Data Preprocessing\n",
        "####Converting the data into Preprocessed flaoting point tensors before being fed into the model.\n",
        "####Since the data is in the JPEG file format,here are the steps of  preprocessing:\n",
        "####1.Read the pictures\n",
        "####2.Convert JPEG content into RGB grid of pixels\n",
        "####3. Convert RGB grid of pixels into floating point tensors\n",
        "####4. Resize them\n",
        "####5. Make them into batches"
      ]
    },
    {
      "cell_type": "markdown",
      "metadata": {
        "id": "z4fboVketrcu"
      },
      "source": [
        "**Using `image_dataset_from_directory` to read images**"
      ]
    },
    {
      "cell_type": "code",
      "metadata": {
        "colab": {
          "base_uri": "https://localhost:8080/"
        },
        "id": "n2KO6Tz_LJgA",
        "outputId": "10d9b494-ee09-4a4b-f635-a407a17c8d78"
      },
      "source": [
        "from tensorflow.keras.utils import image_dataset_from_directory\n",
        "\n",
        "train_dataset = image_dataset_from_directory(\n",
        "    new_base_dir / \"train\",\n",
        "    image_size=(180, 180),\n",
        "    batch_size=32)\n",
        "validation_dataset = image_dataset_from_directory(\n",
        "    new_base_dir / \"validation\",\n",
        "    image_size=(180, 180),\n",
        "    batch_size=32)\n",
        "test_dataset = image_dataset_from_directory(\n",
        "    new_base_dir / \"test\",\n",
        "    image_size=(180, 180),\n",
        "    batch_size=32)"
      ],
      "execution_count": 8,
      "outputs": [
        {
          "output_type": "stream",
          "name": "stdout",
          "text": [
            "Found 2000 files belonging to 2 classes.\n",
            "Found 1000 files belonging to 2 classes.\n",
            "Found 1000 files belonging to 2 classes.\n"
          ]
        }
      ]
    },
    {
      "cell_type": "markdown",
      "metadata": {
        "id": "u1ofxMIFp-nL"
      },
      "source": [
        "Create a datset instance from NumPy array of random numbers of 1000 samples and each sample of vector size 16"
      ]
    },
    {
      "cell_type": "code",
      "metadata": {
        "id": "q-OvV49ALJgB"
      },
      "source": [
        "import numpy as np\n",
        "import tensorflow as tf\n",
        "random_numbers = np.random.normal(size=(1000, 16))\n",
        "dataset = tf.data.Dataset.from_tensor_slices(random_numbers)"
      ],
      "execution_count": 9,
      "outputs": []
    },
    {
      "cell_type": "code",
      "metadata": {
        "colab": {
          "base_uri": "https://localhost:8080/"
        },
        "id": "J2VciHhWLJgB",
        "outputId": "93fab24f-295a-4ea6-961c-cfe147e930aa"
      },
      "source": [
        "for i, element in enumerate(dataset):\n",
        "    print(element.shape)\n",
        "    if i >= 2:\n",
        "        break"
      ],
      "execution_count": 10,
      "outputs": [
        {
          "output_type": "stream",
          "name": "stdout",
          "text": [
            "(16,)\n",
            "(16,)\n",
            "(16,)\n"
          ]
        }
      ]
    },
    {
      "cell_type": "markdown",
      "metadata": {
        "id": "ltmtIkKxq4sf"
      },
      "source": [
        "Batching the data into batches of size 32"
      ]
    },
    {
      "cell_type": "code",
      "metadata": {
        "colab": {
          "base_uri": "https://localhost:8080/"
        },
        "id": "2HaIetuiLJgB",
        "outputId": "b2dbb24e-0702-4637-f5ef-38acf1827300"
      },
      "source": [
        "batched_dataset = dataset.batch(32)\n",
        "for i, element in enumerate(batched_dataset):\n",
        "    print(element.shape)\n",
        "    if i >= 2:\n",
        "        break"
      ],
      "execution_count": 11,
      "outputs": [
        {
          "output_type": "stream",
          "name": "stdout",
          "text": [
            "(32, 16)\n",
            "(32, 16)\n",
            "(32, 16)\n"
          ]
        }
      ]
    },
    {
      "cell_type": "code",
      "metadata": {
        "colab": {
          "base_uri": "https://localhost:8080/"
        },
        "id": "Aqh5SrMXLJgB",
        "outputId": "b588fffb-adce-4368-8e31-5d0c6cb06d4f"
      },
      "source": [
        "reshaped_dataset = dataset.map(lambda x: tf.reshape(x, (4, 4)))\n",
        "for i, element in enumerate(reshaped_dataset):\n",
        "    print(element.shape)\n",
        "    if i >= 2:\n",
        "        break"
      ],
      "execution_count": 12,
      "outputs": [
        {
          "output_type": "stream",
          "name": "stdout",
          "text": [
            "(4, 4)\n",
            "(4, 4)\n",
            "(4, 4)\n"
          ]
        }
      ]
    },
    {
      "cell_type": "markdown",
      "metadata": {
        "id": "7nj0WdosLJgC"
      },
      "source": [
        "**Displaying the shapes of the data and labels yielded by the `Dataset`**"
      ]
    },
    {
      "cell_type": "code",
      "metadata": {
        "colab": {
          "base_uri": "https://localhost:8080/"
        },
        "id": "YLVTY3F6LJgC",
        "outputId": "5631b5b7-2a85-4f8e-8b38-0d397b15047d"
      },
      "source": [
        "for data_batch, labels_batch in train_dataset:\n",
        "    print(\"data batch shape:\", data_batch.shape)\n",
        "    print(\"labels batch shape:\", labels_batch.shape)\n",
        "    break"
      ],
      "execution_count": 13,
      "outputs": [
        {
          "output_type": "stream",
          "name": "stdout",
          "text": [
            "data batch shape: (32, 180, 180, 3)\n",
            "labels batch shape: (32,)\n"
          ]
        }
      ]
    },
    {
      "cell_type": "markdown",
      "metadata": {
        "id": "P1hLVDnpLJf-"
      },
      "source": [
        "##Building the model"
      ]
    },
    {
      "cell_type": "markdown",
      "metadata": {
        "id": "9XAsrO-rtzd-"
      },
      "source": [
        "**Instantiating a small convnet for dogs vs. cats classification**\n"
      ]
    },
    {
      "cell_type": "code",
      "metadata": {
        "id": "beY7fF_KLJf_"
      },
      "source": [
        "from tensorflow import keras\n",
        "from tensorflow.keras import layers\n",
        "\n",
        "inputs = keras.Input(shape=(180, 180, 3))\n",
        "x = layers.Rescaling(1./255)(inputs)\n",
        "x = layers.Conv2D(filters=32, kernel_size=3, activation=\"relu\")(x)\n",
        "x = layers.MaxPooling2D(pool_size=2)(x)\n",
        "x = layers.Conv2D(filters=64, kernel_size=3, activation=\"relu\")(x)\n",
        "x = layers.MaxPooling2D(pool_size=2)(x)\n",
        "x = layers.Conv2D(filters=128, kernel_size=3, activation=\"relu\")(x)\n",
        "x = layers.MaxPooling2D(pool_size=2)(x)\n",
        "x = layers.Conv2D(filters=256, kernel_size=3, activation=\"relu\")(x)\n",
        "x = layers.MaxPooling2D(pool_size=2)(x)\n",
        "x = layers.Conv2D(filters=256, kernel_size=3, activation=\"relu\")(x)\n",
        "x = layers.Flatten()(x)\n",
        "x = layers.Dropout(0.5)(x)\n",
        "outputs = layers.Dense(1, activation=\"sigmoid\")(x)\n",
        "model = keras.Model(inputs=inputs, outputs=outputs)"
      ],
      "execution_count": 14,
      "outputs": []
    },
    {
      "cell_type": "markdown",
      "metadata": {
        "id": "UkzEJ5iuLJgA"
      },
      "source": [
        "**Configuring the model for training**"
      ]
    },
    {
      "cell_type": "code",
      "metadata": {
        "id": "1Ytsm5F8LJgA"
      },
      "source": [
        "model.compile(loss=\"binary_crossentropy\",\n",
        "              optimizer=\"adam\",\n",
        "              metrics=[\"accuracy\"])"
      ],
      "execution_count": 15,
      "outputs": []
    },
    {
      "cell_type": "code",
      "metadata": {
        "colab": {
          "base_uri": "https://localhost:8080/"
        },
        "id": "orpQgeVVLJf_",
        "outputId": "1b73c618-70d5-4131-ad4b-28c300e72d81"
      },
      "source": [
        "model.summary()"
      ],
      "execution_count": null,
      "outputs": [
        {
          "output_type": "stream",
          "name": "stdout",
          "text": [
            "Model: \"model\"\n",
            "_________________________________________________________________\n",
            " Layer (type)                Output Shape              Param #   \n",
            "=================================================================\n",
            " input_1 (InputLayer)        [(None, 180, 180, 3)]     0         \n",
            "                                                                 \n",
            " rescaling (Rescaling)       (None, 180, 180, 3)       0         \n",
            "                                                                 \n",
            " conv2d (Conv2D)             (None, 178, 178, 32)      896       \n",
            "                                                                 \n",
            " max_pooling2d (MaxPooling2D  (None, 89, 89, 32)       0         \n",
            " )                                                               \n",
            "                                                                 \n",
            " conv2d_1 (Conv2D)           (None, 87, 87, 64)        18496     \n",
            "                                                                 \n",
            " max_pooling2d_1 (MaxPooling  (None, 43, 43, 64)       0         \n",
            " 2D)                                                             \n",
            "                                                                 \n",
            " conv2d_2 (Conv2D)           (None, 41, 41, 128)       73856     \n",
            "                                                                 \n",
            " max_pooling2d_2 (MaxPooling  (None, 20, 20, 128)      0         \n",
            " 2D)                                                             \n",
            "                                                                 \n",
            " conv2d_3 (Conv2D)           (None, 18, 18, 256)       295168    \n",
            "                                                                 \n",
            " max_pooling2d_3 (MaxPooling  (None, 9, 9, 256)        0         \n",
            " 2D)                                                             \n",
            "                                                                 \n",
            " conv2d_4 (Conv2D)           (None, 7, 7, 256)         590080    \n",
            "                                                                 \n",
            " flatten (Flatten)           (None, 12544)             0         \n",
            "                                                                 \n",
            " dropout (Dropout)           (None, 12544)             0         \n",
            "                                                                 \n",
            " dense (Dense)               (None, 1)                 12545     \n",
            "                                                                 \n",
            "=================================================================\n",
            "Total params: 991,041\n",
            "Trainable params: 991,041\n",
            "Non-trainable params: 0\n",
            "_________________________________________________________________\n"
          ]
        }
      ]
    },
    {
      "cell_type": "markdown",
      "metadata": {
        "id": "KDMhNkahLJgC"
      },
      "source": [
        "**Fitting the model using a `Dataset`**"
      ]
    },
    {
      "cell_type": "code",
      "metadata": {
        "colab": {
          "base_uri": "https://localhost:8080/"
        },
        "id": "3_Us5bFxLJgC",
        "outputId": "d4655161-bc36-4eab-cfd4-6b372f7b9fc6"
      },
      "source": [
        "from keras.callbacks import ModelCheckpoint, EarlyStopping\n",
        "\n",
        "callbacks = [\n",
        "    keras.callbacks.ModelCheckpoint(\n",
        "        filepath=\"convnet_from_scratch.keras\",\n",
        "        save_best_only=True,\n",
        "        monitor=\"val_loss\")\n",
        "]\n",
        "history = model.fit(\n",
        "    train_dataset,\n",
        "    epochs=30,\n",
        "    validation_data=validation_dataset,\n",
        "    callbacks=callbacks)"
      ],
      "execution_count": 16,
      "outputs": [
        {
          "output_type": "stream",
          "name": "stdout",
          "text": [
            "Epoch 1/30\n",
            "63/63 [==============================] - 19s 127ms/step - loss: 0.6924 - accuracy: 0.5160 - val_loss: 0.6930 - val_accuracy: 0.5000\n",
            "Epoch 2/30\n",
            "63/63 [==============================] - 7s 113ms/step - loss: 0.6914 - accuracy: 0.5300 - val_loss: 0.6966 - val_accuracy: 0.5270\n",
            "Epoch 3/30\n",
            "63/63 [==============================] - 7s 112ms/step - loss: 0.6910 - accuracy: 0.5425 - val_loss: 0.6967 - val_accuracy: 0.5200\n",
            "Epoch 4/30\n",
            "63/63 [==============================] - 7s 111ms/step - loss: 0.6919 - accuracy: 0.5290 - val_loss: 0.6959 - val_accuracy: 0.5000\n",
            "Epoch 5/30\n",
            "63/63 [==============================] - 7s 111ms/step - loss: 0.6929 - accuracy: 0.5095 - val_loss: 0.7146 - val_accuracy: 0.5410\n",
            "Epoch 6/30\n",
            "63/63 [==============================] - 7s 112ms/step - loss: 0.6708 - accuracy: 0.5975 - val_loss: 0.6596 - val_accuracy: 0.6250\n",
            "Epoch 7/30\n",
            "63/63 [==============================] - 7s 111ms/step - loss: 0.6658 - accuracy: 0.5915 - val_loss: 0.6756 - val_accuracy: 0.5810\n",
            "Epoch 8/30\n",
            "63/63 [==============================] - 7s 112ms/step - loss: 0.6394 - accuracy: 0.6435 - val_loss: 0.6449 - val_accuracy: 0.6160\n",
            "Epoch 9/30\n",
            "63/63 [==============================] - 7s 112ms/step - loss: 0.6047 - accuracy: 0.6755 - val_loss: 0.6293 - val_accuracy: 0.6570\n",
            "Epoch 10/30\n",
            "63/63 [==============================] - 7s 111ms/step - loss: 0.5723 - accuracy: 0.6935 - val_loss: 0.6013 - val_accuracy: 0.6810\n",
            "Epoch 11/30\n",
            "63/63 [==============================] - 7s 111ms/step - loss: 0.5136 - accuracy: 0.7500 - val_loss: 0.6246 - val_accuracy: 0.6960\n",
            "Epoch 12/30\n",
            "63/63 [==============================] - 7s 112ms/step - loss: 0.4752 - accuracy: 0.7775 - val_loss: 0.5930 - val_accuracy: 0.7090\n",
            "Epoch 13/30\n",
            "63/63 [==============================] - 7s 111ms/step - loss: 0.4224 - accuracy: 0.7990 - val_loss: 0.6147 - val_accuracy: 0.7230\n",
            "Epoch 14/30\n",
            "63/63 [==============================] - 7s 112ms/step - loss: 0.3831 - accuracy: 0.8325 - val_loss: 0.6363 - val_accuracy: 0.7250\n",
            "Epoch 15/30\n",
            "63/63 [==============================] - 7s 112ms/step - loss: 0.3091 - accuracy: 0.8665 - val_loss: 0.6385 - val_accuracy: 0.7250\n",
            "Epoch 16/30\n",
            "63/63 [==============================] - 7s 110ms/step - loss: 0.2984 - accuracy: 0.8640 - val_loss: 0.7205 - val_accuracy: 0.7160\n",
            "Epoch 17/30\n",
            "63/63 [==============================] - 7s 111ms/step - loss: 0.2206 - accuracy: 0.9070 - val_loss: 0.7309 - val_accuracy: 0.7500\n",
            "Epoch 18/30\n",
            "63/63 [==============================] - 7s 111ms/step - loss: 0.1636 - accuracy: 0.9350 - val_loss: 0.8713 - val_accuracy: 0.7410\n",
            "Epoch 19/30\n",
            "63/63 [==============================] - 7s 111ms/step - loss: 0.1385 - accuracy: 0.9430 - val_loss: 0.8394 - val_accuracy: 0.7400\n",
            "Epoch 20/30\n",
            "63/63 [==============================] - 8s 123ms/step - loss: 0.1000 - accuracy: 0.9620 - val_loss: 0.8838 - val_accuracy: 0.7510\n",
            "Epoch 21/30\n",
            "63/63 [==============================] - 7s 110ms/step - loss: 0.0978 - accuracy: 0.9640 - val_loss: 0.9745 - val_accuracy: 0.7400\n",
            "Epoch 22/30\n",
            "63/63 [==============================] - 7s 112ms/step - loss: 0.0829 - accuracy: 0.9705 - val_loss: 0.9648 - val_accuracy: 0.7460\n",
            "Epoch 23/30\n",
            "63/63 [==============================] - 7s 110ms/step - loss: 0.0697 - accuracy: 0.9735 - val_loss: 1.1356 - val_accuracy: 0.7320\n",
            "Epoch 24/30\n",
            "63/63 [==============================] - 7s 111ms/step - loss: 0.0436 - accuracy: 0.9850 - val_loss: 1.1340 - val_accuracy: 0.7520\n",
            "Epoch 25/30\n",
            "63/63 [==============================] - 7s 110ms/step - loss: 0.0694 - accuracy: 0.9755 - val_loss: 1.1411 - val_accuracy: 0.7430\n",
            "Epoch 26/30\n",
            "63/63 [==============================] - 7s 112ms/step - loss: 0.0354 - accuracy: 0.9880 - val_loss: 1.2052 - val_accuracy: 0.7520\n",
            "Epoch 27/30\n",
            "63/63 [==============================] - 7s 110ms/step - loss: 0.0478 - accuracy: 0.9870 - val_loss: 1.2239 - val_accuracy: 0.7310\n",
            "Epoch 28/30\n",
            "63/63 [==============================] - 7s 111ms/step - loss: 0.0388 - accuracy: 0.9835 - val_loss: 1.3112 - val_accuracy: 0.7390\n",
            "Epoch 29/30\n",
            "63/63 [==============================] - 7s 110ms/step - loss: 0.0417 - accuracy: 0.9855 - val_loss: 1.2729 - val_accuracy: 0.7450\n",
            "Epoch 30/30\n",
            "63/63 [==============================] - 7s 111ms/step - loss: 0.0471 - accuracy: 0.9830 - val_loss: 1.1506 - val_accuracy: 0.7440\n"
          ]
        }
      ]
    },
    {
      "cell_type": "markdown",
      "metadata": {
        "id": "wFh51DoALJgC"
      },
      "source": [
        "**Displaying curves of loss and accuracy during training**"
      ]
    },
    {
      "cell_type": "code",
      "metadata": {
        "colab": {
          "base_uri": "https://localhost:8080/",
          "height": 1000
        },
        "id": "k4Iv3jPhLJgC",
        "outputId": "b3c3f169-951e-48aa-c3e1-bf25199d6e4c"
      },
      "source": [
        "\n",
        "import matplotlib.pyplot as plt\n",
        "\n",
        "plt.figure(figsize=(10, 10))\n",
        "accuracy = history.history[\"accuracy\"]\n",
        "val_accuracy = history.history[\"val_accuracy\"]\n",
        "loss = history.history[\"loss\"]\n",
        "val_loss = history.history[\"val_loss\"]\n",
        "epochs = range(1, len(accuracy) + 1)\n",
        "plt.plot(epochs, accuracy, \"bo\", label=\"Training accuracy\")\n",
        "plt.plot(epochs, val_accuracy, \"b\", label=\"Validation accuracy\")\n",
        "plt.title(\"Training and validation accuracy\")\n",
        "plt.legend()\n",
        "plt.figure()\n",
        "plt.figure(figsize=(10, 10))\n",
        "plt.plot(epochs, loss, \"bo\", label=\"Training loss\")\n",
        "plt.plot(epochs, val_loss, \"b\", label=\"Validation loss\")\n",
        "plt.title(\"Training and validation loss\")\n",
        "plt.legend()\n",
        "plt.show()"
      ],
      "execution_count": 17,
      "outputs": [
        {
          "output_type": "display_data",
          "data": {
            "text/plain": [
              "<Figure size 720x720 with 1 Axes>"
            ],
            "image/png": "[encoded data removed]"
          },
          "metadata": {
            "needs_background": "light"
          }
        },
        {
          "output_type": "display_data",
          "data": {
            "text/plain": [
              "<Figure size 432x288 with 0 Axes>"
            ]
          },
          "metadata": {}
        },
        {
          "output_type": "display_data",
          "data": {
            "text/plain": [
              "<Figure size 720x720 with 1 Axes>"
            ],
            "image/png": "[encoded data removed]"
          },
          "metadata": {
            "needs_background": "light"
          }
        }
      ]
    },
    {
      "cell_type": "markdown",
      "metadata": {
        "id": "IxhZlNRjLJgD"
      },
      "source": [
        "**Evaluating the model on the test set**"
      ]
    },
    {
      "cell_type": "code",
      "metadata": {
        "colab": {
          "base_uri": "https://localhost:8080/"
        },
        "id": "rnkCdcr2LJgD",
        "outputId": "3ca61b55-134d-405a-df5e-50373e8aabe2"
      },
      "source": [
        "test_model = keras.models.load_model(\"convnet_from_scratch.keras\")\n",
        "test_loss, test_acc = test_model.evaluate(test_dataset)\n",
        "print(f\"Test accuracy: {test_acc:.3f}\")"
      ],
      "execution_count": 18,
      "outputs": [
        {
          "output_type": "stream",
          "name": "stdout",
          "text": [
            "32/32 [==============================] - 2s 49ms/step - loss: 0.6359 - accuracy: 0.6710\n",
            "Test accuracy: 0.671\n"
          ]
        }
      ]
    },
    {
      "cell_type": "markdown",
      "metadata": {
        "id": "JYJ0Y_Jtcy7O"
      },
      "source": [
        "# Q2.  Increase your training sample size. You may pick any amount. Keep the validation and test samples the same as above. Optimize your network (again training from scratch). What performance did you achieve?"
      ]
    },
    {
      "cell_type": "markdown",
      "metadata": {
        "id": "a-M774A19ZOx"
      },
      "source": [
        "#### Test Accuracy - 80.00%\n",
        "\n",
        "#### Training Accuraccy - 86.55%\n",
        "\n",
        "#### Validation Accuracy - 79.90% \n"
      ]
    },
    {
      "cell_type": "markdown",
      "metadata": {
        "id": "go8Th_HDLJgD"
      },
      "source": [
        "**Define a data augmentation stage to add to an image model**"
      ]
    },
    {
      "cell_type": "code",
      "metadata": {
        "id": "Ecz_riV30EGy"
      },
      "source": [
        "import os, shutil, pathlib\n",
        "\n",
        "shutil.rmtree(\"./cats_vs_dogs_small_Q2\", ignore_errors=True)\n",
        "\n",
        "original_dir = pathlib.Path(\"train\")\n",
        "new_base_dir = pathlib.Path(\"cats_vs_dogs_small_Q2\")\n",
        "\n",
        "def make_subset(subset_name, start_index, end_index):\n",
        "    for category in (\"cat\", \"dog\"):\n",
        "        dir = new_base_dir / subset_name / category\n",
        "        os.makedirs(dir)\n",
        "        fnames = [f\"{category}.{i}.jpg\" for i in range(start_index, end_index)]\n",
        "        for fname in fnames:\n",
        "            shutil.copyfile(src=original_dir / fname,\n",
        "                            dst=dir / fname)\n",
        "#Creating training, Test and validation sets.\n",
        "#Training has 1000 samples, test has 500 samples and validation has 500 samples.\n",
        "make_subset(\"train\", start_index=0, end_index=1500)\n",
        "make_subset(\"validation\", start_index=1500, end_index=2000)\n",
        "make_subset(\"test\", start_index=2000, end_index=2500)"
      ],
      "execution_count": 19,
      "outputs": []
    },
    {
      "cell_type": "code",
      "metadata": {
        "id": "RopcC5mFLJgE"
      },
      "source": [
        "data_augmentation = keras.Sequential(\n",
        "    [\n",
        "        layers.RandomFlip(\"horizontal\"),\n",
        "        layers.RandomRotation(0.1),\n",
        "        layers.RandomZoom(0.2),\n",
        "    ]\n",
        ")"
      ],
      "execution_count": 20,
      "outputs": []
    },
    {
      "cell_type": "markdown",
      "metadata": {
        "id": "cRpQ-P8eLJgE"
      },
      "source": [
        "**Displaying some randomly augmented training images**"
      ]
    },
    {
      "cell_type": "code",
      "metadata": {
        "colab": {
          "base_uri": "https://localhost:8080/",
          "height": 575
        },
        "id": "w4fdl64zLJgE",
        "outputId": "3bffce6f-b0c6-4231-e356-75d529b9e154"
      },
      "source": [
        "plt.figure(figsize=(10, 10))\n",
        "for images, _ in train_dataset.take(1):\n",
        "    for i in range(9):\n",
        "        augmented_images = data_augmentation(images)\n",
        "        ax = plt.subplot(3, 3, i + 1)\n",
        "        plt.imshow(augmented_images[0].numpy().astype(\"uint8\"))\n",
        "        plt.axis(\"off\")"
      ],
      "execution_count": 21,
      "outputs": [
        {
          "output_type": "display_data",
          "data": {
            "text/plain": [
              "<Figure size 720x720 with 9 Axes>"
            ],
            "image/png": "[encoded data removed]"
          },
          "metadata": {
            "needs_background": "light"
          }
        }
      ]
    },
    {
      "cell_type": "markdown",
      "metadata": {
        "id": "mtaPOa7ILJgE"
      },
      "source": [
        "**Defining a new convnet that includes image augmentation and dropout**"
      ]
    },
    {
      "cell_type": "code",
      "metadata": {
        "id": "zziUmvoPLJgE"
      },
      "source": [
        "inputs = keras.Input(shape=(180, 180, 3))\n",
        "x = data_augmentation(inputs)\n",
        "x = layers.Rescaling(1./255)(x)\n",
        "x = layers.Conv2D(filters=32, kernel_size=3, activation=\"relu\")(x)\n",
        "x = layers.MaxPooling2D(pool_size=2)(x)\n",
        "x = layers.Conv2D(filters=64, kernel_size=3, activation=\"relu\")(x)\n",
        "x = layers.MaxPooling2D(pool_size=2)(x)\n",
        "x = layers.Conv2D(filters=128, kernel_size=3, activation=\"relu\")(x)\n",
        "x = layers.MaxPooling2D(pool_size=2)(x)\n",
        "x = layers.Conv2D(filters=256, kernel_size=3, activation=\"relu\")(x)\n",
        "x = layers.MaxPooling2D(pool_size=2)(x)\n",
        "x = layers.Conv2D(filters=256, kernel_size=3, activation=\"relu\")(x)\n",
        "x = layers.Flatten()(x)\n",
        "x = layers.Dropout(0.5)(x)\n",
        "outputs = layers.Dense(1, activation=\"sigmoid\")(x)\n",
        "model = keras.Model(inputs=inputs, outputs=outputs)\n",
        "\n",
        "model.compile(loss=\"binary_crossentropy\",\n",
        "              optimizer=\"adam\",\n",
        "              metrics=[\"accuracy\"])"
      ],
      "execution_count": 22,
      "outputs": []
    },
    {
      "cell_type": "markdown",
      "metadata": {
        "id": "8cneVnr6LJgF"
      },
      "source": [
        "**Training the regularized convnet**"
      ]
    },
    {
      "cell_type": "code",
      "metadata": {
        "colab": {
          "base_uri": "https://localhost:8080/"
        },
        "id": "cc6rLTqeLJgF",
        "outputId": "50e2f5e9-ed0e-4571-bd3c-93bca8312243"
      },
      "source": [
        "callbacks = [\n",
        "    keras.callbacks.ModelCheckpoint(\n",
        "        filepath=\"convnet_from_scratch_with_augmentation.keras\",\n",
        "        save_best_only=True,\n",
        "        monitor=\"val_loss\")\n",
        "]\n",
        "history = model.fit(\n",
        "    train_dataset,\n",
        "    epochs=50,\n",
        "    validation_data=validation_dataset,\n",
        "    callbacks=callbacks)"
      ],
      "execution_count": 23,
      "outputs": [
        {
          "output_type": "stream",
          "name": "stdout",
          "text": [
            "Epoch 1/50\n",
            "63/63 [==============================] - 10s 124ms/step - loss: 0.6929 - accuracy: 0.5175 - val_loss: 0.7004 - val_accuracy: 0.5270\n",
            "Epoch 2/50\n",
            "63/63 [==============================] - 8s 119ms/step - loss: 0.6944 - accuracy: 0.4925 - val_loss: 0.6934 - val_accuracy: 0.4970\n",
            "Epoch 3/50\n",
            "63/63 [==============================] - 8s 119ms/step - loss: 0.6934 - accuracy: 0.4875 - val_loss: 0.6928 - val_accuracy: 0.5690\n",
            "Epoch 4/50\n",
            "63/63 [==============================] - 8s 118ms/step - loss: 0.6940 - accuracy: 0.5350 - val_loss: 0.6948 - val_accuracy: 0.5000\n",
            "Epoch 5/50\n",
            "63/63 [==============================] - 8s 118ms/step - loss: 0.6938 - accuracy: 0.4825 - val_loss: 0.6931 - val_accuracy: 0.5400\n",
            "Epoch 6/50\n",
            "63/63 [==============================] - 8s 117ms/step - loss: 0.6939 - accuracy: 0.5175 - val_loss: 0.6929 - val_accuracy: 0.5180\n",
            "Epoch 7/50\n",
            "63/63 [==============================] - 8s 118ms/step - loss: 0.6927 - accuracy: 0.5170 - val_loss: 0.6935 - val_accuracy: 0.4980\n",
            "Epoch 8/50\n",
            "63/63 [==============================] - 8s 118ms/step - loss: 0.6937 - accuracy: 0.5110 - val_loss: 0.6925 - val_accuracy: 0.5420\n",
            "Epoch 9/50\n",
            "63/63 [==============================] - 8s 118ms/step - loss: 0.6895 - accuracy: 0.5380 - val_loss: 0.6907 - val_accuracy: 0.5780\n",
            "Epoch 10/50\n",
            "63/63 [==============================] - 8s 119ms/step - loss: 0.6891 - accuracy: 0.5355 - val_loss: 0.6904 - val_accuracy: 0.5230\n",
            "Epoch 11/50\n",
            "63/63 [==============================] - 8s 120ms/step - loss: 0.6920 - accuracy: 0.5190 - val_loss: 0.6915 - val_accuracy: 0.5000\n",
            "Epoch 12/50\n",
            "63/63 [==============================] - 8s 119ms/step - loss: 0.6893 - accuracy: 0.5260 - val_loss: 0.6862 - val_accuracy: 0.5360\n",
            "Epoch 13/50\n",
            "63/63 [==============================] - 8s 118ms/step - loss: 0.6857 - accuracy: 0.5350 - val_loss: 0.6888 - val_accuracy: 0.5580\n",
            "Epoch 14/50\n",
            "63/63 [==============================] - 8s 119ms/step - loss: 0.6858 - accuracy: 0.5570 - val_loss: 0.6833 - val_accuracy: 0.5840\n",
            "Epoch 15/50\n",
            "63/63 [==============================] - 8s 119ms/step - loss: 0.6826 - accuracy: 0.5565 - val_loss: 0.6816 - val_accuracy: 0.5370\n",
            "Epoch 16/50\n",
            "63/63 [==============================] - 8s 119ms/step - loss: 0.6795 - accuracy: 0.5765 - val_loss: 0.6803 - val_accuracy: 0.5640\n",
            "Epoch 17/50\n",
            "63/63 [==============================] - 8s 120ms/step - loss: 0.6731 - accuracy: 0.5725 - val_loss: 0.6722 - val_accuracy: 0.6280\n",
            "Epoch 18/50\n",
            "63/63 [==============================] - 8s 119ms/step - loss: 0.6647 - accuracy: 0.6080 - val_loss: 0.6618 - val_accuracy: 0.6100\n",
            "Epoch 19/50\n",
            "63/63 [==============================] - 8s 119ms/step - loss: 0.6453 - accuracy: 0.6370 - val_loss: 0.6445 - val_accuracy: 0.6330\n",
            "Epoch 20/50\n",
            "63/63 [==============================] - 8s 118ms/step - loss: 0.6417 - accuracy: 0.6450 - val_loss: 0.6392 - val_accuracy: 0.6470\n",
            "Epoch 21/50\n",
            "63/63 [==============================] - 8s 119ms/step - loss: 0.6279 - accuracy: 0.6620 - val_loss: 0.6296 - val_accuracy: 0.6440\n",
            "Epoch 22/50\n",
            "63/63 [==============================] - 8s 119ms/step - loss: 0.6246 - accuracy: 0.6650 - val_loss: 0.6285 - val_accuracy: 0.6290\n",
            "Epoch 23/50\n",
            "63/63 [==============================] - 8s 119ms/step - loss: 0.6273 - accuracy: 0.6510 - val_loss: 0.6252 - val_accuracy: 0.6370\n",
            "Epoch 24/50\n",
            "63/63 [==============================] - 8s 119ms/step - loss: 0.6128 - accuracy: 0.6730 - val_loss: 0.6175 - val_accuracy: 0.6500\n",
            "Epoch 25/50\n",
            "63/63 [==============================] - 8s 119ms/step - loss: 0.6041 - accuracy: 0.6835 - val_loss: 0.6077 - val_accuracy: 0.6540\n",
            "Epoch 26/50\n",
            "63/63 [==============================] - 8s 119ms/step - loss: 0.5969 - accuracy: 0.6905 - val_loss: 0.6006 - val_accuracy: 0.6670\n",
            "Epoch 27/50\n",
            "63/63 [==============================] - 8s 120ms/step - loss: 0.5861 - accuracy: 0.6985 - val_loss: 0.5794 - val_accuracy: 0.6820\n",
            "Epoch 28/50\n",
            "63/63 [==============================] - 8s 118ms/step - loss: 0.5753 - accuracy: 0.6985 - val_loss: 0.5962 - val_accuracy: 0.6650\n",
            "Epoch 29/50\n",
            "63/63 [==============================] - 8s 119ms/step - loss: 0.5618 - accuracy: 0.7150 - val_loss: 0.5721 - val_accuracy: 0.6900\n",
            "Epoch 30/50\n",
            "63/63 [==============================] - 8s 117ms/step - loss: 0.5577 - accuracy: 0.7250 - val_loss: 0.6111 - val_accuracy: 0.6630\n",
            "Epoch 31/50\n",
            "63/63 [==============================] - 8s 118ms/step - loss: 0.5669 - accuracy: 0.7090 - val_loss: 0.5961 - val_accuracy: 0.6550\n",
            "Epoch 32/50\n",
            "63/63 [==============================] - 8s 117ms/step - loss: 0.5539 - accuracy: 0.7160 - val_loss: 0.5837 - val_accuracy: 0.6870\n",
            "Epoch 33/50\n",
            "63/63 [==============================] - 8s 118ms/step - loss: 0.5479 - accuracy: 0.7260 - val_loss: 0.5716 - val_accuracy: 0.7040\n",
            "Epoch 34/50\n",
            "63/63 [==============================] - 8s 119ms/step - loss: 0.5296 - accuracy: 0.7425 - val_loss: 0.5645 - val_accuracy: 0.7100\n",
            "Epoch 35/50\n",
            "63/63 [==============================] - 8s 118ms/step - loss: 0.5320 - accuracy: 0.7405 - val_loss: 0.5614 - val_accuracy: 0.7140\n",
            "Epoch 36/50\n",
            "63/63 [==============================] - 8s 118ms/step - loss: 0.5316 - accuracy: 0.7420 - val_loss: 0.5550 - val_accuracy: 0.7130\n",
            "Epoch 37/50\n",
            "63/63 [==============================] - 8s 118ms/step - loss: 0.5359 - accuracy: 0.7240 - val_loss: 0.5382 - val_accuracy: 0.7170\n",
            "Epoch 38/50\n",
            "63/63 [==============================] - 8s 117ms/step - loss: 0.5208 - accuracy: 0.7445 - val_loss: 0.5565 - val_accuracy: 0.7240\n",
            "Epoch 39/50\n",
            "63/63 [==============================] - 8s 119ms/step - loss: 0.5256 - accuracy: 0.7390 - val_loss: 0.5108 - val_accuracy: 0.7560\n",
            "Epoch 40/50\n",
            "63/63 [==============================] - 8s 118ms/step - loss: 0.5092 - accuracy: 0.7440 - val_loss: 0.5235 - val_accuracy: 0.7260\n",
            "Epoch 41/50\n",
            "63/63 [==============================] - 8s 117ms/step - loss: 0.4898 - accuracy: 0.7580 - val_loss: 0.5200 - val_accuracy: 0.7380\n",
            "Epoch 42/50\n",
            "63/63 [==============================] - 8s 118ms/step - loss: 0.4878 - accuracy: 0.7760 - val_loss: 0.5032 - val_accuracy: 0.7470\n",
            "Epoch 43/50\n",
            "63/63 [==============================] - 8s 118ms/step - loss: 0.4881 - accuracy: 0.7650 - val_loss: 0.5356 - val_accuracy: 0.7360\n",
            "Epoch 44/50\n",
            "63/63 [==============================] - 8s 118ms/step - loss: 0.4785 - accuracy: 0.7770 - val_loss: 0.5401 - val_accuracy: 0.7380\n",
            "Epoch 45/50\n",
            "63/63 [==============================] - 8s 119ms/step - loss: 0.4551 - accuracy: 0.7785 - val_loss: 0.4850 - val_accuracy: 0.7670\n",
            "Epoch 46/50\n",
            "63/63 [==============================] - 8s 119ms/step - loss: 0.5060 - accuracy: 0.7685 - val_loss: 0.4943 - val_accuracy: 0.7610\n",
            "Epoch 47/50\n",
            "63/63 [==============================] - 8s 119ms/step - loss: 0.4674 - accuracy: 0.7805 - val_loss: 0.4726 - val_accuracy: 0.7730\n",
            "Epoch 48/50\n",
            "63/63 [==============================] - 8s 118ms/step - loss: 0.4544 - accuracy: 0.7880 - val_loss: 0.4853 - val_accuracy: 0.7840\n",
            "Epoch 49/50\n",
            "63/63 [==============================] - 8s 118ms/step - loss: 0.4508 - accuracy: 0.8005 - val_loss: 0.4977 - val_accuracy: 0.7600\n",
            "Epoch 50/50\n",
            "63/63 [==============================] - 8s 120ms/step - loss: 0.4344 - accuracy: 0.8015 - val_loss: 0.4626 - val_accuracy: 0.7770\n"
          ]
        }
      ]
    },
    {
      "cell_type": "markdown",
      "metadata": {
        "id": "K7R_41A7LJgF"
      },
      "source": [
        "**Evaluating the model on the test set**"
      ]
    },
    {
      "cell_type": "code",
      "metadata": {
        "colab": {
          "base_uri": "https://localhost:8080/"
        },
        "id": "LWMgTFPOLJgF",
        "outputId": "8d4f771e-e3fb-495f-c846-c9999cab22e2"
      },
      "source": [
        "test_model = keras.models.load_model(\n",
        "    \"convnet_from_scratch_with_augmentation.keras\")\n",
        "test_loss, test_acc = test_model.evaluate(test_dataset)\n",
        "print(f\"Test accuracy: {test_acc:.3f}\")"
      ],
      "execution_count": 24,
      "outputs": [
        {
          "output_type": "stream",
          "name": "stdout",
          "text": [
            "32/32 [==============================] - 2s 49ms/step - loss: 0.5061 - accuracy: 0.7650\n",
            "Test accuracy: 0.765\n"
          ]
        }
      ]
    },
    {
      "cell_type": "markdown",
      "metadata": {
        "id": "ZBTatsuzYBsL"
      },
      "source": [
        "# Q3. Now change your training sample so that you achieve better performance than those from Steps 1 and 2. This sample size may be larger, or smaller than those in the previous steps. The objective is to find the ideal training sample size to get best prediction results.\n",
        "\n",
        "\n"
      ]
    },
    {
      "cell_type": "markdown",
      "metadata": {
        "id": "1JTDXQOn8ndK"
      },
      "source": [
        "#### Test Accuracy - 83.2%\n",
        "\n",
        "#### Training Accuraccy - 93.6%\n",
        "\n",
        "#### Validation Accuracy - 81.20%\n"
      ]
    },
    {
      "cell_type": "markdown",
      "metadata": {
        "id": "RCwHLictwLGl"
      },
      "source": [
        "### Increasing the training sample to 2000, keeping the Validation and test sets the same as before(500 samples)"
      ]
    },
    {
      "cell_type": "code",
      "metadata": {
        "id": "WNwoFRIWwzCa"
      },
      "source": [
        "original_dir = pathlib.Path(\"train\")\n",
        "new_base_dir = pathlib.Path(\"cats_vs_dogs_small_Q3\")\n",
        "\n",
        "def make_subset(subset_name, start_index, end_index):\n",
        "    for category in (\"cat\", \"dog\"):\n",
        "        dir = new_base_dir / subset_name / category\n",
        "        os.makedirs(dir)\n",
        "        fnames = [f\"{category}.{i}.jpg\" for i in range(start_index, end_index)]\n",
        "        for fname in fnames:\n",
        "            shutil.copyfile(src=original_dir / fname,\n",
        "                            dst=dir / fname)\n",
        "#Creating training, Test and validation sets.\n",
        "#Training has 1000 samples, test has 500 samples and validation has 500 samples.\n",
        "make_subset(\"train\", start_index=0, end_index=2000)\n",
        "make_subset(\"validation\", start_index=2000, end_index=2500)\n",
        "make_subset(\"test\", start_index=2500, end_index=3000)"
      ],
      "execution_count": 25,
      "outputs": []
    },
    {
      "cell_type": "markdown",
      "metadata": {
        "id": "q4Dy_A0exWqN"
      },
      "source": [
        "**Defining a new convnet with increased training samples,image augmentation and dropout**"
      ]
    },
    {
      "cell_type": "code",
      "metadata": {
        "id": "2HIQ8cHQxWOF"
      },
      "source": [
        "inputs = keras.Input(shape=(180, 180, 3))\n",
        "x = data_augmentation(inputs)\n",
        "x = layers.Rescaling(1./255)(x)\n",
        "x = layers.Conv2D(filters=32, kernel_size=3, activation=\"relu\")(x)\n",
        "x = layers.MaxPooling2D(pool_size=2)(x)\n",
        "x = layers.Conv2D(filters=64, kernel_size=3, activation=\"relu\")(x)\n",
        "x = layers.MaxPooling2D(pool_size=2)(x)\n",
        "x = layers.Conv2D(filters=128, kernel_size=3, activation=\"relu\")(x)\n",
        "x = layers.MaxPooling2D(pool_size=2)(x)\n",
        "x = layers.Conv2D(filters=256, kernel_size=3, activation=\"relu\")(x)\n",
        "x = layers.MaxPooling2D(pool_size=2)(x)\n",
        "x = layers.Conv2D(filters=256, kernel_size=3, activation=\"relu\")(x)\n",
        "x = layers.Flatten()(x)\n",
        "x = layers.Dropout(0.5)(x)\n",
        "outputs = layers.Dense(1, activation=\"sigmoid\")(x)\n",
        "model = keras.Model(inputs=inputs, outputs=outputs)\n",
        "\n",
        "model.compile(loss=\"binary_crossentropy\",\n",
        "              optimizer=\"adam\",\n",
        "              metrics=[\"accuracy\"])"
      ],
      "execution_count": 26,
      "outputs": []
    },
    {
      "cell_type": "code",
      "metadata": {
        "colab": {
          "base_uri": "https://localhost:8080/"
        },
        "id": "TC3vdZWhQLu3",
        "outputId": "033f6860-7f30-47fd-b9a1-45b532f6a865"
      },
      "source": [
        "callbacks = [\n",
        "    keras.callbacks.ModelCheckpoint(\n",
        "        filepath=\"convnet_from_scratch_with_augmentation1.keras\",\n",
        "        save_best_only=True,\n",
        "        monitor=\"val_loss\")\n",
        "]\n",
        "history = model.fit(\n",
        "    train_dataset,\n",
        "    epochs=50,\n",
        "    validation_data=validation_dataset,\n",
        "    callbacks=callbacks)"
      ],
      "execution_count": 27,
      "outputs": [
        {
          "output_type": "stream",
          "name": "stdout",
          "text": [
            "Epoch 1/50\n",
            "63/63 [==============================] - 9s 124ms/step - loss: 0.6946 - accuracy: 0.5190 - val_loss: 0.6923 - val_accuracy: 0.5030\n",
            "Epoch 2/50\n",
            "63/63 [==============================] - 8s 119ms/step - loss: 0.6912 - accuracy: 0.5315 - val_loss: 0.6918 - val_accuracy: 0.5150\n",
            "Epoch 3/50\n",
            "63/63 [==============================] - 8s 118ms/step - loss: 0.6879 - accuracy: 0.5355 - val_loss: 0.6936 - val_accuracy: 0.5080\n",
            "Epoch 4/50\n",
            "63/63 [==============================] - 8s 119ms/step - loss: 0.6775 - accuracy: 0.5810 - val_loss: 0.6828 - val_accuracy: 0.5490\n",
            "Epoch 5/50\n",
            "63/63 [==============================] - 8s 119ms/step - loss: 0.6604 - accuracy: 0.6175 - val_loss: 0.6390 - val_accuracy: 0.6140\n",
            "Epoch 6/50\n",
            "63/63 [==============================] - 8s 117ms/step - loss: 0.6820 - accuracy: 0.5750 - val_loss: 0.6427 - val_accuracy: 0.6500\n",
            "Epoch 7/50\n",
            "63/63 [==============================] - 8s 119ms/step - loss: 0.6257 - accuracy: 0.6570 - val_loss: 0.6105 - val_accuracy: 0.6490\n",
            "Epoch 8/50\n",
            "63/63 [==============================] - 8s 119ms/step - loss: 0.6038 - accuracy: 0.6900 - val_loss: 0.6010 - val_accuracy: 0.6610\n",
            "Epoch 9/50\n",
            "63/63 [==============================] - 8s 118ms/step - loss: 0.5973 - accuracy: 0.6780 - val_loss: 0.6254 - val_accuracy: 0.6390\n",
            "Epoch 10/50\n",
            "63/63 [==============================] - 8s 119ms/step - loss: 0.6029 - accuracy: 0.6715 - val_loss: 0.5760 - val_accuracy: 0.6810\n",
            "Epoch 11/50\n",
            "63/63 [==============================] - 8s 117ms/step - loss: 0.5861 - accuracy: 0.6950 - val_loss: 0.5924 - val_accuracy: 0.6630\n",
            "Epoch 12/50\n",
            "63/63 [==============================] - 8s 118ms/step - loss: 0.5712 - accuracy: 0.7115 - val_loss: 0.5839 - val_accuracy: 0.6760\n",
            "Epoch 13/50\n",
            "63/63 [==============================] - 8s 118ms/step - loss: 0.5627 - accuracy: 0.7190 - val_loss: 0.5526 - val_accuracy: 0.7120\n",
            "Epoch 14/50\n",
            "63/63 [==============================] - 8s 120ms/step - loss: 0.5483 - accuracy: 0.7225 - val_loss: 0.5504 - val_accuracy: 0.7180\n",
            "Epoch 15/50\n",
            "63/63 [==============================] - 8s 119ms/step - loss: 0.5499 - accuracy: 0.7170 - val_loss: 0.5409 - val_accuracy: 0.7210\n",
            "Epoch 16/50\n",
            "63/63 [==============================] - 8s 118ms/step - loss: 0.5307 - accuracy: 0.7400 - val_loss: 0.5111 - val_accuracy: 0.7510\n",
            "Epoch 17/50\n",
            "63/63 [==============================] - 8s 116ms/step - loss: 0.5364 - accuracy: 0.7315 - val_loss: 0.5802 - val_accuracy: 0.6830\n",
            "Epoch 18/50\n",
            "63/63 [==============================] - 8s 117ms/step - loss: 0.5182 - accuracy: 0.7470 - val_loss: 0.5415 - val_accuracy: 0.7130\n",
            "Epoch 19/50\n",
            "63/63 [==============================] - 8s 118ms/step - loss: 0.5065 - accuracy: 0.7465 - val_loss: 0.5410 - val_accuracy: 0.7220\n",
            "Epoch 20/50\n",
            "63/63 [==============================] - 8s 119ms/step - loss: 0.5213 - accuracy: 0.7510 - val_loss: 0.4845 - val_accuracy: 0.7540\n",
            "Epoch 21/50\n",
            "63/63 [==============================] - 8s 119ms/step - loss: 0.4928 - accuracy: 0.7670 - val_loss: 0.4872 - val_accuracy: 0.7710\n",
            "Epoch 22/50\n",
            "63/63 [==============================] - 8s 119ms/step - loss: 0.4979 - accuracy: 0.7655 - val_loss: 0.4774 - val_accuracy: 0.7760\n",
            "Epoch 23/50\n",
            "63/63 [==============================] - 8s 120ms/step - loss: 0.4737 - accuracy: 0.7740 - val_loss: 0.4770 - val_accuracy: 0.7710\n",
            "Epoch 24/50\n",
            "63/63 [==============================] - 8s 117ms/step - loss: 0.4811 - accuracy: 0.7680 - val_loss: 0.5028 - val_accuracy: 0.7620\n",
            "Epoch 25/50\n",
            "63/63 [==============================] - 8s 118ms/step - loss: 0.4615 - accuracy: 0.7835 - val_loss: 0.4725 - val_accuracy: 0.7690\n",
            "Epoch 26/50\n",
            "63/63 [==============================] - 8s 118ms/step - loss: 0.4591 - accuracy: 0.7810 - val_loss: 0.5181 - val_accuracy: 0.7250\n",
            "Epoch 27/50\n",
            "63/63 [==============================] - 8s 118ms/step - loss: 0.4488 - accuracy: 0.7900 - val_loss: 0.5054 - val_accuracy: 0.7480\n",
            "Epoch 28/50\n",
            "63/63 [==============================] - 8s 120ms/step - loss: 0.4284 - accuracy: 0.7975 - val_loss: 0.4692 - val_accuracy: 0.7870\n",
            "Epoch 29/50\n",
            "63/63 [==============================] - 8s 119ms/step - loss: 0.4357 - accuracy: 0.7980 - val_loss: 0.4457 - val_accuracy: 0.7980\n",
            "Epoch 30/50\n",
            "63/63 [==============================] - 8s 118ms/step - loss: 0.4166 - accuracy: 0.8155 - val_loss: 0.4634 - val_accuracy: 0.7830\n",
            "Epoch 31/50\n",
            "63/63 [==============================] - 8s 118ms/step - loss: 0.4263 - accuracy: 0.8000 - val_loss: 0.4553 - val_accuracy: 0.7860\n",
            "Epoch 32/50\n",
            "63/63 [==============================] - 8s 119ms/step - loss: 0.4215 - accuracy: 0.8070 - val_loss: 0.4372 - val_accuracy: 0.7960\n",
            "Epoch 33/50\n",
            "63/63 [==============================] - 8s 119ms/step - loss: 0.4173 - accuracy: 0.8090 - val_loss: 0.4552 - val_accuracy: 0.7970\n",
            "Epoch 34/50\n",
            "63/63 [==============================] - 8s 119ms/step - loss: 0.3957 - accuracy: 0.8300 - val_loss: 0.4217 - val_accuracy: 0.8080\n",
            "Epoch 35/50\n",
            "63/63 [==============================] - 8s 118ms/step - loss: 0.3746 - accuracy: 0.8365 - val_loss: 0.5263 - val_accuracy: 0.7680\n",
            "Epoch 36/50\n",
            "63/63 [==============================] - 8s 118ms/step - loss: 0.3807 - accuracy: 0.8265 - val_loss: 0.4184 - val_accuracy: 0.8250\n",
            "Epoch 37/50\n",
            "63/63 [==============================] - 8s 118ms/step - loss: 0.3607 - accuracy: 0.8385 - val_loss: 0.4236 - val_accuracy: 0.8250\n",
            "Epoch 38/50\n",
            "63/63 [==============================] - 8s 117ms/step - loss: 0.3621 - accuracy: 0.8355 - val_loss: 0.4370 - val_accuracy: 0.8040\n",
            "Epoch 39/50\n",
            "63/63 [==============================] - 8s 118ms/step - loss: 0.3544 - accuracy: 0.8445 - val_loss: 0.4330 - val_accuracy: 0.8030\n",
            "Epoch 40/50\n",
            "63/63 [==============================] - 8s 119ms/step - loss: 0.3393 - accuracy: 0.8525 - val_loss: 0.4042 - val_accuracy: 0.8360\n",
            "Epoch 41/50\n",
            "63/63 [==============================] - 8s 118ms/step - loss: 0.3481 - accuracy: 0.8440 - val_loss: 0.4518 - val_accuracy: 0.8030\n",
            "Epoch 42/50\n",
            "63/63 [==============================] - 8s 117ms/step - loss: 0.3397 - accuracy: 0.8465 - val_loss: 0.4112 - val_accuracy: 0.8360\n",
            "Epoch 43/50\n",
            "63/63 [==============================] - 8s 118ms/step - loss: 0.3346 - accuracy: 0.8520 - val_loss: 0.4531 - val_accuracy: 0.8060\n",
            "Epoch 44/50\n",
            "63/63 [==============================] - 8s 118ms/step - loss: 0.3094 - accuracy: 0.8670 - val_loss: 0.4238 - val_accuracy: 0.8260\n",
            "Epoch 45/50\n",
            "63/63 [==============================] - 8s 118ms/step - loss: 0.3419 - accuracy: 0.8515 - val_loss: 0.4231 - val_accuracy: 0.8110\n",
            "Epoch 46/50\n",
            "63/63 [==============================] - 8s 118ms/step - loss: 0.3032 - accuracy: 0.8695 - val_loss: 0.4815 - val_accuracy: 0.7990\n",
            "Epoch 47/50\n",
            "63/63 [==============================] - 8s 118ms/step - loss: 0.2997 - accuracy: 0.8685 - val_loss: 0.4392 - val_accuracy: 0.8100\n",
            "Epoch 48/50\n",
            "63/63 [==============================] - 8s 118ms/step - loss: 0.2963 - accuracy: 0.8660 - val_loss: 0.4366 - val_accuracy: 0.8370\n",
            "Epoch 49/50\n",
            "63/63 [==============================] - 8s 119ms/step - loss: 0.2782 - accuracy: 0.8815 - val_loss: 0.3844 - val_accuracy: 0.8380\n",
            "Epoch 50/50\n",
            "63/63 [==============================] - 8s 117ms/step - loss: 0.3015 - accuracy: 0.8760 - val_loss: 0.3947 - val_accuracy: 0.8350\n"
          ]
        }
      ]
    },
    {
      "cell_type": "code",
      "metadata": {
        "colab": {
          "base_uri": "https://localhost:8080/"
        },
        "id": "dl-PYvrHR2GC",
        "outputId": "64fce7c0-c3bd-4f14-cac8-5e1c891f735b"
      },
      "source": [
        "test_model = keras.models.load_model(\n",
        "    \"convnet_from_scratch_with_augmentation1.keras\")\n",
        "test_loss, test_acc = test_model.evaluate(test_dataset)\n",
        "print(f\"Test accuracy: {test_acc:.3f}\")"
      ],
      "execution_count": 28,
      "outputs": [
        {
          "output_type": "stream",
          "name": "stdout",
          "text": [
            "32/32 [==============================] - 2s 46ms/step - loss: 0.4602 - accuracy: 0.8000\n",
            "Test accuracy: 0.800\n"
          ]
        }
      ]
    },
    {
      "cell_type": "markdown",
      "metadata": {
        "id": "iLu-7fNMCykm"
      },
      "source": [
        "# Summary for Q1, Q2 and Q3\n",
        "\n",
        "---\n",
        "\n",
        "\n",
        "\n",
        "### I started by training a small convnet on the 1,000 training samples, without any optimization to set a baseline which got us a classification accuracy in the vicinity of 70%. The main issue that was identified was overfitting. \n",
        "\n",
        "###Then I introduced data augmentation and other optimization techniques like earlystopping(which determines the optimal number of epochs), Regularization and Dropout. By using data augmentation, we improved the model to reach an accuracy of 80%.\n",
        "\n",
        "###Then I tried to find the optimal training sample to increase classification accuracy.\n",
        "\n",
        "###It was observed by the manipulation of the training sample and usage of other optimization techniques that the best ways prevent overfitting are as follows\n",
        "### 1. **Getting more training samples** - Increasing the training sample is not always possible. One way of optimally using the less training samples is Data Augmentation.\n",
        "### 2. **Reducing the capacity of the network** - It was observed that reducing the size of the model i.e the number of learnable parameters in the model which is essentially the  number of layers  and the number of units in layers, considerably prevents overfitting\n",
        "### 3. **Adding weight regularization** - Putting constraint on the complexity of a network by forcing the weights  to take only small values, which helps in regularizing the distribution of the weight values which in turns helps in preventing or minimizing overfitting\n",
        "### 4. **Adding dropout** - Zeroing out a number of output features of the layer during training, helps in minimizing overfitting as well. The dropout rate is the fraction of the features that are zeroed out.\n",
        "\n",
        "\n",
        "---\n",
        "\n",
        "\n"
      ]
    },
    {
      "cell_type": "markdown",
      "metadata": {
        "id": "LrPR3elMLJgF"
      },
      "source": [
        "#Q4. Repeat Steps 1-3, but now using a pretrained network. The sample sizes you use in Steps 2 and 3 for the pretrained network may be the same or different from those using the network where you trained from scratch. Again, use any and all optimization techniques to get best performance."
      ]
    },
    {
      "cell_type": "markdown",
      "metadata": {
        "id": "Mwki7ouMMs11"
      },
      "source": [
        "#### A highly effective approach to apply deep learning on small image datasets is to use a pretrained model. A pretrained model is a model that was previously trained on a large dataset, typically on a large-scale image-classification task.\n",
        "\n",
        "#### In this case, we will use a large convnet trained on the ImageNet dataset (1.4 million labeled images and 1,000 different classes). We will use VGG16 architecture, however, htere are multiple such architectures available namely VGG, ResNet, Inception, Xception, and so on.\n",
        "\n",
        "#### Many other image-classification models (all pretrained on the ImageNet dataset) are available as part of keras.applications:\n",
        "#### 1. Xception\n",
        "#### 2. ResNet\n",
        "#### 3. MobileNet\n",
        "#### 4. EfficientNet\n",
        "#### 5. DenseNet etc.\n"
      ]
    },
    {
      "cell_type": "markdown",
      "metadata": {
        "id": "j69jWRr_LJgF"
      },
      "source": [
        "### Feature extraction with a pretrained model\n",
        "\n",
        "#### Feature extraction means using the representations learned by a previously trained model (ImageNet, in our case) to extract interesting features from new samples. These features are then run through a new classifier, which is trained from scratch."
      ]
    },
    {
      "cell_type": "markdown",
      "metadata": {
        "id": "zz2pq2ajLJgG"
      },
      "source": [
        "**Instantiating the VGG16 convolutional base**"
      ]
    },
    {
      "cell_type": "code",
      "metadata": {
        "id": "skbTdg2GLJgG",
        "colab": {
          "base_uri": "https://localhost:8080/"
        },
        "outputId": "45ef594a-bb50-4724-cc12-1647f946ea44"
      },
      "source": [
        "conv_base = keras.applications.vgg16.VGG16(\n",
        "    weights=\"imagenet\",\n",
        "    include_top=False,\n",
        "    input_shape=(180, 180, 3))"
      ],
      "execution_count": 29,
      "outputs": [
        {
          "output_type": "stream",
          "name": "stdout",
          "text": [
            "Downloading data from https://storage.googleapis.com/tensorflow/keras-applications/vgg16/vgg16_weights_tf_dim_ordering_tf_kernels_notop.h5\n",
            "58892288/58889256 [==============================] - 0s 0us/step\n",
            "58900480/58889256 [==============================] - 0s 0us/step\n"
          ]
        }
      ]
    },
    {
      "cell_type": "code",
      "metadata": {
        "id": "pE4zRVz7LJgG",
        "colab": {
          "base_uri": "https://localhost:8080/"
        },
        "outputId": "09d4ccd5-c226-47e8-a383-5838112988f8"
      },
      "source": [
        "conv_base.summary()"
      ],
      "execution_count": 30,
      "outputs": [
        {
          "output_type": "stream",
          "name": "stdout",
          "text": [
            "Model: \"vgg16\"\n",
            "_________________________________________________________________\n",
            " Layer (type)                Output Shape              Param #   \n",
            "=================================================================\n",
            " input_4 (InputLayer)        [(None, 180, 180, 3)]     0         \n",
            "                                                                 \n",
            " block1_conv1 (Conv2D)       (None, 180, 180, 64)      1792      \n",
            "                                                                 \n",
            " block1_conv2 (Conv2D)       (None, 180, 180, 64)      36928     \n",
            "                                                                 \n",
            " block1_pool (MaxPooling2D)  (None, 90, 90, 64)        0         \n",
            "                                                                 \n",
            " block2_conv1 (Conv2D)       (None, 90, 90, 128)       73856     \n",
            "                                                                 \n",
            " block2_conv2 (Conv2D)       (None, 90, 90, 128)       147584    \n",
            "                                                                 \n",
            " block2_pool (MaxPooling2D)  (None, 45, 45, 128)       0         \n",
            "                                                                 \n",
            " block3_conv1 (Conv2D)       (None, 45, 45, 256)       295168    \n",
            "                                                                 \n",
            " block3_conv2 (Conv2D)       (None, 45, 45, 256)       590080    \n",
            "                                                                 \n",
            " block3_conv3 (Conv2D)       (None, 45, 45, 256)       590080    \n",
            "                                                                 \n",
            " block3_pool (MaxPooling2D)  (None, 22, 22, 256)       0         \n",
            "                                                                 \n",
            " block4_conv1 (Conv2D)       (None, 22, 22, 512)       1180160   \n",
            "                                                                 \n",
            " block4_conv2 (Conv2D)       (None, 22, 22, 512)       2359808   \n",
            "                                                                 \n",
            " block4_conv3 (Conv2D)       (None, 22, 22, 512)       2359808   \n",
            "                                                                 \n",
            " block4_pool (MaxPooling2D)  (None, 11, 11, 512)       0         \n",
            "                                                                 \n",
            " block5_conv1 (Conv2D)       (None, 11, 11, 512)       2359808   \n",
            "                                                                 \n",
            " block5_conv2 (Conv2D)       (None, 11, 11, 512)       2359808   \n",
            "                                                                 \n",
            " block5_conv3 (Conv2D)       (None, 11, 11, 512)       2359808   \n",
            "                                                                 \n",
            " block5_pool (MaxPooling2D)  (None, 5, 5, 512)         0         \n",
            "                                                                 \n",
            "=================================================================\n",
            "Total params: 14,714,688\n",
            "Trainable params: 14,714,688\n",
            "Non-trainable params: 0\n",
            "_________________________________________________________________\n"
          ]
        }
      ]
    },
    {
      "cell_type": "markdown",
      "metadata": {
        "id": "SfdIeb-CLJgG"
      },
      "source": [
        "### Feature extraction without data augmentation using a pretrained model"
      ]
    },
    {
      "cell_type": "markdown",
      "metadata": {
        "id": "IuoRUabiLJgG"
      },
      "source": [
        "**Extracting the VGG16 features and corresponding labels**"
      ]
    },
    {
      "cell_type": "code",
      "metadata": {
        "id": "diN5BO8WLJgG"
      },
      "source": [
        "import numpy as np\n",
        "\n",
        "def get_features_and_labels(dataset):\n",
        "    all_features = []\n",
        "    all_labels = []\n",
        "    for images, labels in dataset:\n",
        "        preprocessed_images = keras.applications.vgg16.preprocess_input(images)\n",
        "        features = conv_base.predict(preprocessed_images)\n",
        "        all_features.append(features)\n",
        "        all_labels.append(labels)\n",
        "    return np.concatenate(all_features), np.concatenate(all_labels)\n",
        "\n",
        "train_features, train_labels =  get_features_and_labels(train_dataset)\n",
        "val_features, val_labels =  get_features_and_labels(validation_dataset)\n",
        "test_features, test_labels =  get_features_and_labels(test_dataset)"
      ],
      "execution_count": 31,
      "outputs": []
    },
    {
      "cell_type": "code",
      "metadata": {
        "id": "Sfa_c6LQLJgG",
        "colab": {
          "base_uri": "https://localhost:8080/"
        },
        "outputId": "302b93c0-798a-4a4f-c9f7-d92fa86c6019"
      },
      "source": [
        "train_features.shape"
      ],
      "execution_count": null,
      "outputs": [
        {
          "output_type": "execute_result",
          "data": {
            "text/plain": [
              "(2000, 5, 5, 512)"
            ]
          },
          "metadata": {},
          "execution_count": 43
        }
      ]
    },
    {
      "cell_type": "markdown",
      "metadata": {
        "id": "3hK0qBZZLJgH"
      },
      "source": [
        "**Defining and training the densely connected classifier**"
      ]
    },
    {
      "cell_type": "code",
      "metadata": {
        "id": "taVrYpkcLJgH",
        "colab": {
          "base_uri": "https://localhost:8080/"
        },
        "outputId": "64914d03-4a66-49d6-eebd-74186946eba6"
      },
      "source": [
        "inputs = keras.Input(shape=(5, 5, 512))\n",
        "x = layers.Flatten()(inputs)\n",
        "x = layers.Dense(256)(x)\n",
        "x = layers.Dropout(0.5)(x)\n",
        "outputs = layers.Dense(1, activation=\"sigmoid\")(x)\n",
        "model = keras.Model(inputs, outputs)\n",
        "model.compile(loss=\"binary_crossentropy\",\n",
        "              optimizer=\"rmsprop\",\n",
        "              metrics=[\"accuracy\"])\n",
        "\n",
        "callbacks = [\n",
        "    keras.callbacks.ModelCheckpoint(\n",
        "      filepath=\"feature_extraction.keras\",\n",
        "      save_best_only=True,\n",
        "      monitor=\"val_loss\")\n",
        "]\n",
        "history = model.fit(\n",
        "    train_features, train_labels,\n",
        "    epochs=20,\n",
        "    validation_data=(val_features, val_labels),\n",
        "    callbacks=callbacks)"
      ],
      "execution_count": 32,
      "outputs": [
        {
          "output_type": "stream",
          "name": "stdout",
          "text": [
            "Epoch 1/20\n",
            "63/63 [==============================] - 2s 12ms/step - loss: 15.1961 - accuracy: 0.9320 - val_loss: 11.0449 - val_accuracy: 0.9380\n",
            "Epoch 2/20\n",
            "63/63 [==============================] - 1s 10ms/step - loss: 3.7746 - accuracy: 0.9710 - val_loss: 2.7017 - val_accuracy: 0.9780\n",
            "Epoch 3/20\n",
            "63/63 [==============================] - 1s 9ms/step - loss: 1.9340 - accuracy: 0.9830 - val_loss: 3.6594 - val_accuracy: 0.9760\n",
            "Epoch 4/20\n",
            "63/63 [==============================] - 1s 9ms/step - loss: 1.0547 - accuracy: 0.9915 - val_loss: 3.4129 - val_accuracy: 0.9770\n",
            "Epoch 5/20\n",
            "63/63 [==============================] - 1s 8ms/step - loss: 1.1258 - accuracy: 0.9925 - val_loss: 6.0344 - val_accuracy: 0.9720\n",
            "Epoch 6/20\n",
            "63/63 [==============================] - 1s 8ms/step - loss: 0.6448 - accuracy: 0.9935 - val_loss: 5.2321 - val_accuracy: 0.9730\n",
            "Epoch 7/20\n",
            "63/63 [==============================] - 1s 9ms/step - loss: 1.0152 - accuracy: 0.9915 - val_loss: 5.4621 - val_accuracy: 0.9720\n",
            "Epoch 8/20\n",
            "63/63 [==============================] - 1s 10ms/step - loss: 0.5838 - accuracy: 0.9955 - val_loss: 6.1605 - val_accuracy: 0.9710\n",
            "Epoch 9/20\n",
            "63/63 [==============================] - 1s 9ms/step - loss: 0.5396 - accuracy: 0.9955 - val_loss: 5.6524 - val_accuracy: 0.9730\n",
            "Epoch 10/20\n",
            "63/63 [==============================] - 1s 9ms/step - loss: 0.2603 - accuracy: 0.9970 - val_loss: 4.7129 - val_accuracy: 0.9760\n",
            "Epoch 11/20\n",
            "63/63 [==============================] - 1s 10ms/step - loss: 4.6613e-11 - accuracy: 1.0000 - val_loss: 4.7126 - val_accuracy: 0.9760\n",
            "Epoch 12/20\n",
            "63/63 [==============================] - 1s 9ms/step - loss: 0.0426 - accuracy: 0.9990 - val_loss: 6.0734 - val_accuracy: 0.9730\n",
            "Epoch 13/20\n",
            "63/63 [==============================] - 1s 10ms/step - loss: 0.0705 - accuracy: 0.9990 - val_loss: 7.2968 - val_accuracy: 0.9720\n",
            "Epoch 14/20\n",
            "63/63 [==============================] - 1s 10ms/step - loss: 0.1707 - accuracy: 0.9980 - val_loss: 5.1251 - val_accuracy: 0.9770\n",
            "Epoch 15/20\n",
            "63/63 [==============================] - 1s 10ms/step - loss: 0.1198 - accuracy: 0.9985 - val_loss: 5.5944 - val_accuracy: 0.9740\n",
            "Epoch 16/20\n",
            "63/63 [==============================] - 1s 9ms/step - loss: 0.1477 - accuracy: 0.9980 - val_loss: 5.8254 - val_accuracy: 0.9760\n",
            "Epoch 17/20\n",
            "63/63 [==============================] - 1s 10ms/step - loss: 0.0425 - accuracy: 0.9990 - val_loss: 6.0416 - val_accuracy: 0.9730\n",
            "Epoch 18/20\n",
            "63/63 [==============================] - 1s 9ms/step - loss: 3.8344e-26 - accuracy: 1.0000 - val_loss: 6.0416 - val_accuracy: 0.9730\n",
            "Epoch 19/20\n",
            "63/63 [==============================] - 1s 9ms/step - loss: 0.2013 - accuracy: 0.9985 - val_loss: 8.6136 - val_accuracy: 0.9730\n",
            "Epoch 20/20\n",
            "63/63 [==============================] - 1s 10ms/step - loss: 0.0060 - accuracy: 0.9995 - val_loss: 6.3260 - val_accuracy: 0.9750\n"
          ]
        }
      ]
    },
    {
      "cell_type": "markdown",
      "metadata": {
        "id": "OIgzvXnHLJgH"
      },
      "source": [
        "**Plotting the results**"
      ]
    },
    {
      "cell_type": "code",
      "metadata": {
        "id": "8_s5AqAjLJgH",
        "colab": {
          "base_uri": "https://localhost:8080/",
          "height": 545
        },
        "outputId": "117ce15a-d71c-4836-d49b-f42cb50d01a5"
      },
      "source": [
        "import matplotlib.pyplot as plt\n",
        "acc = history.history[\"accuracy\"]\n",
        "val_acc = history.history[\"val_accuracy\"]\n",
        "loss = history.history[\"loss\"]\n",
        "val_loss = history.history[\"val_loss\"]\n",
        "epochs = range(1, len(acc) + 1)\n",
        "plt.plot(epochs, acc, \"bo\", label=\"Training accuracy\")\n",
        "plt.plot(epochs, val_acc, \"b\", label=\"Validation accuracy\")\n",
        "plt.title(\"Training and validation accuracy\")\n",
        "plt.legend()\n",
        "plt.figure()\n",
        "plt.plot(epochs, loss, \"bo\", label=\"Training loss\")\n",
        "plt.plot(epochs, val_loss, \"b\", label=\"Validation loss\")\n",
        "plt.title(\"Training and validation loss\")\n",
        "plt.legend()\n",
        "plt.show()"
      ],
      "execution_count": 33,
      "outputs": [
        {
          "output_type": "display_data",
          "data": {
            "text/plain": [
              "<Figure size 432x288 with 1 Axes>"
            ],
            "image/png": "[encoded data removed]"
          },
          "metadata": {
            "needs_background": "light"
          }
        },
        {
          "output_type": "display_data",
          "data": {
            "text/plain": [
              "<Figure size 432x288 with 1 Axes>"
            ],
            "image/png": "[encoded data removed]"
          },
          "metadata": {
            "needs_background": "light"
          }
        }
      ]
    },
    {
      "cell_type": "markdown",
      "metadata": {
        "id": "0XzEsaqmLJgH"
      },
      "source": [
        "### Feature extraction with data augmentation using a pretrained model"
      ]
    },
    {
      "cell_type": "markdown",
      "metadata": {
        "id": "xbNGfHSmLJgH"
      },
      "source": [
        "**Instantiating and freezing the VGG16 convolutional base**"
      ]
    },
    {
      "cell_type": "code",
      "metadata": {
        "id": "4dQb9DQCLJgI"
      },
      "source": [
        "conv_base  = keras.applications.vgg16.VGG16(\n",
        "    weights=\"imagenet\",\n",
        "    include_top=False)\n",
        "conv_base.trainable = False"
      ],
      "execution_count": 34,
      "outputs": []
    },
    {
      "cell_type": "markdown",
      "metadata": {
        "id": "lo4EDoRLLJgI"
      },
      "source": [
        "**Printing the list of trainable weights before and after freezing**"
      ]
    },
    {
      "cell_type": "code",
      "metadata": {
        "id": "uXuWbLaXLJgI",
        "colab": {
          "base_uri": "https://localhost:8080/"
        },
        "outputId": "4ac66644-c710-4916-b6c9-9ef2a358df65"
      },
      "source": [
        "conv_base.trainable = True\n",
        "print(\"This is the number of trainable weights \"\n",
        "      \"before freezing the conv base:\", len(conv_base.trainable_weights))"
      ],
      "execution_count": 35,
      "outputs": [
        {
          "output_type": "stream",
          "name": "stdout",
          "text": [
            "This is the number of trainable weights before freezing the conv base: 26\n"
          ]
        }
      ]
    },
    {
      "cell_type": "code",
      "metadata": {
        "id": "ymDWZ8j4LJgI",
        "colab": {
          "base_uri": "https://localhost:8080/"
        },
        "outputId": "1aada2c4-ce05-4050-a00a-d540f47f4957"
      },
      "source": [
        "conv_base.trainable = False\n",
        "print(\"This is the number of trainable weights \"\n",
        "      \"after freezing the conv base:\", len(conv_base.trainable_weights))"
      ],
      "execution_count": 36,
      "outputs": [
        {
          "output_type": "stream",
          "name": "stdout",
          "text": [
            "This is the number of trainable weights after freezing the conv base: 0\n"
          ]
        }
      ]
    },
    {
      "cell_type": "markdown",
      "metadata": {
        "id": "23uNfxn6LJgI"
      },
      "source": [
        "**Adding a data augmentation stage and a classifier to the convolutional base**"
      ]
    },
    {
      "cell_type": "code",
      "metadata": {
        "id": "VNgRDR0hLJgI"
      },
      "source": [
        "data_augmentation = keras.Sequential(\n",
        "    [\n",
        "        layers.RandomFlip(\"horizontal\"),\n",
        "        layers.RandomRotation(0.1),\n",
        "        layers.RandomZoom(0.2),\n",
        "    ]\n",
        ")\n",
        "\n",
        "inputs = keras.Input(shape=(180, 180, 3))\n",
        "x = data_augmentation(inputs)\n",
        "x = keras.applications.vgg16.preprocess_input(x)\n",
        "x = conv_base(x)\n",
        "x = layers.Flatten()(x)\n",
        "x = layers.Dense(256)(x)\n",
        "x = layers.Dropout(0.5)(x)\n",
        "outputs = layers.Dense(1, activation=\"sigmoid\")(x)\n",
        "model = keras.Model(inputs, outputs)\n",
        "model.compile(loss=\"binary_crossentropy\",\n",
        "              optimizer=\"rmsprop\",\n",
        "              metrics=[\"accuracy\"])"
      ],
      "execution_count": 37,
      "outputs": []
    },
    {
      "cell_type": "code",
      "metadata": {
        "id": "rktZ-i64LJgI",
        "colab": {
          "base_uri": "https://localhost:8080/"
        },
        "outputId": "80b9909c-fab2-4113-cf4c-85f0394a205f"
      },
      "source": [
        "callbacks = [\n",
        "    keras.callbacks.ModelCheckpoint(\n",
        "        filepath=\"feature_extraction_with_data_augmentation.keras\",\n",
        "        save_best_only=True,\n",
        "        monitor=\"val_loss\")\n",
        "]\n",
        "history = model.fit(\n",
        "    train_dataset,\n",
        "    epochs=50,\n",
        "    validation_data=validation_dataset,\n",
        "    callbacks=callbacks)"
      ],
      "execution_count": 38,
      "outputs": [
        {
          "output_type": "stream",
          "name": "stdout",
          "text": [
            "Epoch 1/50\n",
            "63/63 [==============================] - 24s 358ms/step - loss: 27.2048 - accuracy: 0.8900 - val_loss: 4.3948 - val_accuracy: 0.9670\n",
            "Epoch 2/50\n",
            "63/63 [==============================] - 22s 351ms/step - loss: 8.1173 - accuracy: 0.9400 - val_loss: 3.2642 - val_accuracy: 0.9720\n",
            "Epoch 3/50\n",
            "63/63 [==============================] - 22s 347ms/step - loss: 4.8124 - accuracy: 0.9535 - val_loss: 3.2774 - val_accuracy: 0.9780\n",
            "Epoch 4/50\n",
            "63/63 [==============================] - 22s 347ms/step - loss: 5.2294 - accuracy: 0.9575 - val_loss: 4.3083 - val_accuracy: 0.9720\n",
            "Epoch 5/50\n",
            "63/63 [==============================] - 22s 346ms/step - loss: 2.8997 - accuracy: 0.9715 - val_loss: 6.6037 - val_accuracy: 0.9660\n",
            "Epoch 6/50\n",
            "63/63 [==============================] - 22s 347ms/step - loss: 4.2654 - accuracy: 0.9620 - val_loss: 4.0403 - val_accuracy: 0.9730\n",
            "Epoch 7/50\n",
            "63/63 [==============================] - 22s 346ms/step - loss: 4.1725 - accuracy: 0.9650 - val_loss: 3.7095 - val_accuracy: 0.9740\n",
            "Epoch 8/50\n",
            "63/63 [==============================] - 22s 350ms/step - loss: 2.8051 - accuracy: 0.9685 - val_loss: 3.1059 - val_accuracy: 0.9840\n",
            "Epoch 9/50\n",
            "63/63 [==============================] - 22s 347ms/step - loss: 1.7911 - accuracy: 0.9810 - val_loss: 3.3059 - val_accuracy: 0.9750\n",
            "Epoch 10/50\n",
            "63/63 [==============================] - 22s 347ms/step - loss: 3.2549 - accuracy: 0.9700 - val_loss: 3.8649 - val_accuracy: 0.9720\n",
            "Epoch 11/50\n",
            "63/63 [==============================] - 22s 352ms/step - loss: 2.2701 - accuracy: 0.9770 - val_loss: 2.8631 - val_accuracy: 0.9790\n",
            "Epoch 12/50\n",
            "63/63 [==============================] - 22s 346ms/step - loss: 2.2990 - accuracy: 0.9760 - val_loss: 5.9437 - val_accuracy: 0.9590\n",
            "Epoch 13/50\n",
            "63/63 [==============================] - 22s 345ms/step - loss: 1.6379 - accuracy: 0.9780 - val_loss: 2.8958 - val_accuracy: 0.9730\n",
            "Epoch 14/50\n",
            "63/63 [==============================] - 22s 350ms/step - loss: 2.0071 - accuracy: 0.9765 - val_loss: 2.6547 - val_accuracy: 0.9700\n",
            "Epoch 15/50\n",
            "63/63 [==============================] - 22s 349ms/step - loss: 1.8747 - accuracy: 0.9795 - val_loss: 1.6811 - val_accuracy: 0.9800\n",
            "Epoch 16/50\n",
            "63/63 [==============================] - 22s 343ms/step - loss: 1.5669 - accuracy: 0.9780 - val_loss: 2.3218 - val_accuracy: 0.9700\n",
            "Epoch 17/50\n",
            "63/63 [==============================] - 22s 346ms/step - loss: 1.5934 - accuracy: 0.9765 - val_loss: 1.7275 - val_accuracy: 0.9780\n",
            "Epoch 18/50\n",
            "63/63 [==============================] - 22s 350ms/step - loss: 0.6857 - accuracy: 0.9860 - val_loss: 1.6720 - val_accuracy: 0.9810\n",
            "Epoch 19/50\n",
            "63/63 [==============================] - 22s 349ms/step - loss: 1.5423 - accuracy: 0.9810 - val_loss: 1.5065 - val_accuracy: 0.9810\n",
            "Epoch 20/50\n",
            "63/63 [==============================] - 22s 345ms/step - loss: 0.9136 - accuracy: 0.9850 - val_loss: 1.6582 - val_accuracy: 0.9750\n",
            "Epoch 21/50\n",
            "63/63 [==============================] - 22s 343ms/step - loss: 0.8897 - accuracy: 0.9810 - val_loss: 1.9327 - val_accuracy: 0.9790\n",
            "Epoch 22/50\n",
            "63/63 [==============================] - 22s 344ms/step - loss: 1.3254 - accuracy: 0.9810 - val_loss: 2.3994 - val_accuracy: 0.9770\n",
            "Epoch 23/50\n",
            "63/63 [==============================] - 22s 345ms/step - loss: 1.1446 - accuracy: 0.9820 - val_loss: 2.2999 - val_accuracy: 0.9760\n",
            "Epoch 24/50\n",
            "63/63 [==============================] - 22s 344ms/step - loss: 0.8586 - accuracy: 0.9855 - val_loss: 2.6890 - val_accuracy: 0.9800\n",
            "Epoch 25/50\n",
            "63/63 [==============================] - 22s 343ms/step - loss: 1.1475 - accuracy: 0.9830 - val_loss: 1.6265 - val_accuracy: 0.9770\n",
            "Epoch 26/50\n",
            "63/63 [==============================] - 22s 344ms/step - loss: 0.9885 - accuracy: 0.9855 - val_loss: 3.2695 - val_accuracy: 0.9700\n",
            "Epoch 27/50\n",
            "63/63 [==============================] - 22s 344ms/step - loss: 1.0051 - accuracy: 0.9820 - val_loss: 2.8112 - val_accuracy: 0.9740\n",
            "Epoch 28/50\n",
            "63/63 [==============================] - 22s 344ms/step - loss: 0.8438 - accuracy: 0.9860 - val_loss: 2.1458 - val_accuracy: 0.9780\n",
            "Epoch 29/50\n",
            "63/63 [==============================] - 22s 344ms/step - loss: 1.0509 - accuracy: 0.9830 - val_loss: 1.7567 - val_accuracy: 0.9790\n",
            "Epoch 30/50\n",
            "63/63 [==============================] - 22s 347ms/step - loss: 0.4472 - accuracy: 0.9870 - val_loss: 2.0234 - val_accuracy: 0.9830\n",
            "Epoch 31/50\n",
            "63/63 [==============================] - 22s 345ms/step - loss: 0.6150 - accuracy: 0.9870 - val_loss: 2.3128 - val_accuracy: 0.9770\n",
            "Epoch 32/50\n",
            "63/63 [==============================] - 22s 345ms/step - loss: 0.7384 - accuracy: 0.9840 - val_loss: 1.7129 - val_accuracy: 0.9810\n",
            "Epoch 33/50\n",
            "63/63 [==============================] - 22s 344ms/step - loss: 0.8812 - accuracy: 0.9830 - val_loss: 1.8738 - val_accuracy: 0.9800\n",
            "Epoch 34/50\n",
            "63/63 [==============================] - 22s 345ms/step - loss: 0.7529 - accuracy: 0.9830 - val_loss: 2.4045 - val_accuracy: 0.9760\n",
            "Epoch 35/50\n",
            "63/63 [==============================] - 22s 346ms/step - loss: 1.0030 - accuracy: 0.9840 - val_loss: 1.6238 - val_accuracy: 0.9820\n",
            "Epoch 36/50\n",
            "63/63 [==============================] - 22s 346ms/step - loss: 0.6441 - accuracy: 0.9870 - val_loss: 1.6173 - val_accuracy: 0.9840\n",
            "Epoch 37/50\n",
            "63/63 [==============================] - 22s 345ms/step - loss: 0.5907 - accuracy: 0.9875 - val_loss: 1.7271 - val_accuracy: 0.9760\n",
            "Epoch 38/50\n",
            "63/63 [==============================] - 22s 344ms/step - loss: 0.4396 - accuracy: 0.9895 - val_loss: 1.8906 - val_accuracy: 0.9760\n",
            "Epoch 39/50\n",
            "63/63 [==============================] - 22s 344ms/step - loss: 0.5757 - accuracy: 0.9855 - val_loss: 2.0377 - val_accuracy: 0.9770\n",
            "Epoch 40/50\n",
            "63/63 [==============================] - 22s 345ms/step - loss: 0.4755 - accuracy: 0.9895 - val_loss: 1.9138 - val_accuracy: 0.9780\n",
            "Epoch 41/50\n",
            "63/63 [==============================] - 22s 345ms/step - loss: 0.5781 - accuracy: 0.9890 - val_loss: 1.7545 - val_accuracy: 0.9790\n",
            "Epoch 42/50\n",
            "63/63 [==============================] - 22s 345ms/step - loss: 0.4528 - accuracy: 0.9900 - val_loss: 2.5008 - val_accuracy: 0.9750\n",
            "Epoch 43/50\n",
            "63/63 [==============================] - 22s 349ms/step - loss: 0.6036 - accuracy: 0.9880 - val_loss: 1.2309 - val_accuracy: 0.9840\n",
            "Epoch 44/50\n",
            "63/63 [==============================] - 22s 345ms/step - loss: 0.2372 - accuracy: 0.9920 - val_loss: 1.6977 - val_accuracy: 0.9820\n",
            "Epoch 45/50\n",
            "63/63 [==============================] - 22s 345ms/step - loss: 0.6445 - accuracy: 0.9855 - val_loss: 1.9155 - val_accuracy: 0.9840\n",
            "Epoch 46/50\n",
            "63/63 [==============================] - 22s 346ms/step - loss: 0.4023 - accuracy: 0.9900 - val_loss: 2.0662 - val_accuracy: 0.9770\n",
            "Epoch 47/50\n",
            "63/63 [==============================] - 22s 344ms/step - loss: 0.5298 - accuracy: 0.9870 - val_loss: 2.2424 - val_accuracy: 0.9770\n",
            "Epoch 48/50\n",
            "63/63 [==============================] - 22s 346ms/step - loss: 0.6521 - accuracy: 0.9845 - val_loss: 1.9760 - val_accuracy: 0.9760\n",
            "Epoch 49/50\n",
            "63/63 [==============================] - 22s 345ms/step - loss: 0.3362 - accuracy: 0.9915 - val_loss: 1.5593 - val_accuracy: 0.9790\n",
            "Epoch 50/50\n",
            "63/63 [==============================] - 22s 344ms/step - loss: 0.3061 - accuracy: 0.9940 - val_loss: 1.6377 - val_accuracy: 0.9790\n"
          ]
        }
      ]
    },
    {
      "cell_type": "markdown",
      "metadata": {
        "id": "NZeVqDgrLJgJ"
      },
      "source": [
        "**Evaluating the model on the test set**"
      ]
    },
    {
      "cell_type": "code",
      "metadata": {
        "id": "1a7rXKp5LJgJ",
        "colab": {
          "base_uri": "https://localhost:8080/"
        },
        "outputId": "13fb9201-a1b0-40b4-f1bc-6c61fc3ac6f2"
      },
      "source": [
        "test_model = keras.models.load_model(\n",
        "    \"feature_extraction_with_data_augmentation.keras\")\n",
        "test_loss, test_acc = test_model.evaluate(test_dataset)\n",
        "print(f\"Test accuracy: {test_acc:.3f}\")"
      ],
      "execution_count": 39,
      "outputs": [
        {
          "output_type": "stream",
          "name": "stdout",
          "text": [
            "32/32 [==============================] - 8s 218ms/step - loss: 1.9513 - accuracy: 0.9810\n",
            "Test accuracy: 0.981\n"
          ]
        }
      ]
    },
    {
      "cell_type": "markdown",
      "metadata": {
        "id": "D51I3dJALJgJ"
      },
      "source": [
        "### A pretrained VGG16 model with Fine-tuning \n",
        "\n",
        "#### Fine-tuning consists of unfreezing a few of the top layers of a frozen model base used for feature extraction, and jointly training both the newly added part of the model (in this case, the fully connected classifier) and these top layers. This is called fine-tuning because it slightly adjusts the more abstract representations of the model being reused in order to make them more relevant for the problem at hand."
      ]
    },
    {
      "cell_type": "code",
      "metadata": {
        "id": "N0V2rv5RLJgJ",
        "colab": {
          "base_uri": "https://localhost:8080/"
        },
        "outputId": "76dc9a3c-4124-49a4-b63c-8316d2c8f387"
      },
      "source": [
        "conv_base.summary()"
      ],
      "execution_count": 40,
      "outputs": [
        {
          "output_type": "stream",
          "name": "stdout",
          "text": [
            "Model: \"vgg16\"\n",
            "_________________________________________________________________\n",
            " Layer (type)                Output Shape              Param #   \n",
            "=================================================================\n",
            " input_6 (InputLayer)        [(None, None, None, 3)]   0         \n",
            "                                                                 \n",
            " block1_conv1 (Conv2D)       (None, None, None, 64)    1792      \n",
            "                                                                 \n",
            " block1_conv2 (Conv2D)       (None, None, None, 64)    36928     \n",
            "                                                                 \n",
            " block1_pool (MaxPooling2D)  (None, None, None, 64)    0         \n",
            "                                                                 \n",
            " block2_conv1 (Conv2D)       (None, None, None, 128)   73856     \n",
            "                                                                 \n",
            " block2_conv2 (Conv2D)       (None, None, None, 128)   147584    \n",
            "                                                                 \n",
            " block2_pool (MaxPooling2D)  (None, None, None, 128)   0         \n",
            "                                                                 \n",
            " block3_conv1 (Conv2D)       (None, None, None, 256)   295168    \n",
            "                                                                 \n",
            " block3_conv2 (Conv2D)       (None, None, None, 256)   590080    \n",
            "                                                                 \n",
            " block3_conv3 (Conv2D)       (None, None, None, 256)   590080    \n",
            "                                                                 \n",
            " block3_pool (MaxPooling2D)  (None, None, None, 256)   0         \n",
            "                                                                 \n",
            " block4_conv1 (Conv2D)       (None, None, None, 512)   1180160   \n",
            "                                                                 \n",
            " block4_conv2 (Conv2D)       (None, None, None, 512)   2359808   \n",
            "                                                                 \n",
            " block4_conv3 (Conv2D)       (None, None, None, 512)   2359808   \n",
            "                                                                 \n",
            " block4_pool (MaxPooling2D)  (None, None, None, 512)   0         \n",
            "                                                                 \n",
            " block5_conv1 (Conv2D)       (None, None, None, 512)   2359808   \n",
            "                                                                 \n",
            " block5_conv2 (Conv2D)       (None, None, None, 512)   2359808   \n",
            "                                                                 \n",
            " block5_conv3 (Conv2D)       (None, None, None, 512)   2359808   \n",
            "                                                                 \n",
            " block5_pool (MaxPooling2D)  (None, None, None, 512)   0         \n",
            "                                                                 \n",
            "=================================================================\n",
            "Total params: 14,714,688\n",
            "Trainable params: 0\n",
            "Non-trainable params: 14,714,688\n",
            "_________________________________________________________________\n"
          ]
        }
      ]
    },
    {
      "cell_type": "markdown",
      "metadata": {
        "id": "cUR7EUYmLJgJ"
      },
      "source": [
        "**Freezing all layers until the fourth from the last**"
      ]
    },
    {
      "cell_type": "code",
      "metadata": {
        "id": "9afcG21WLJgJ"
      },
      "source": [
        "conv_base.trainable = True\n",
        "for layer in conv_base.layers[:-4]:\n",
        "    layer.trainable = False"
      ],
      "execution_count": 41,
      "outputs": []
    },
    {
      "cell_type": "markdown",
      "metadata": {
        "id": "44SPsGOiLJgJ"
      },
      "source": [
        "**Fine-tuning the model**"
      ]
    },
    {
      "cell_type": "code",
      "metadata": {
        "id": "BNfNf5C6LJgJ",
        "colab": {
          "base_uri": "https://localhost:8080/"
        },
        "outputId": "b4633ecc-d4cb-44ba-a29b-ee6e2e5b140d"
      },
      "source": [
        "model.compile(loss=\"binary_crossentropy\",\n",
        "              optimizer=keras.optimizers.RMSprop(learning_rate=1e-5),\n",
        "              metrics=[\"accuracy\"])\n",
        "\n",
        "callbacks = [\n",
        "    keras.callbacks.ModelCheckpoint(\n",
        "        filepath=\"fine_tuning.keras\",\n",
        "        save_best_only=True,\n",
        "        monitor=\"val_loss\")\n",
        "]\n",
        "history = model.fit(\n",
        "    train_dataset,\n",
        "    epochs=30,\n",
        "    validation_data=validation_dataset,\n",
        "    callbacks=callbacks)"
      ],
      "execution_count": 42,
      "outputs": [
        {
          "output_type": "stream",
          "name": "stdout",
          "text": [
            "Epoch 1/30\n",
            "63/63 [==============================] - 26s 383ms/step - loss: 0.4204 - accuracy: 0.9850 - val_loss: 1.6123 - val_accuracy: 0.9780\n",
            "Epoch 2/30\n",
            "63/63 [==============================] - 24s 373ms/step - loss: 0.4046 - accuracy: 0.9900 - val_loss: 3.0306 - val_accuracy: 0.9680\n",
            "Epoch 3/30\n",
            "63/63 [==============================] - 24s 375ms/step - loss: 0.3094 - accuracy: 0.9940 - val_loss: 1.6742 - val_accuracy: 0.9830\n",
            "Epoch 4/30\n",
            "63/63 [==============================] - 24s 379ms/step - loss: 0.3972 - accuracy: 0.9890 - val_loss: 1.5078 - val_accuracy: 0.9800\n",
            "Epoch 5/30\n",
            "63/63 [==============================] - 24s 378ms/step - loss: 0.2295 - accuracy: 0.9945 - val_loss: 1.3639 - val_accuracy: 0.9820\n",
            "Epoch 6/30\n",
            "63/63 [==============================] - 24s 374ms/step - loss: 0.3419 - accuracy: 0.9875 - val_loss: 1.9761 - val_accuracy: 0.9800\n",
            "Epoch 7/30\n",
            "63/63 [==============================] - 24s 373ms/step - loss: 0.2091 - accuracy: 0.9925 - val_loss: 1.3892 - val_accuracy: 0.9830\n",
            "Epoch 8/30\n",
            "63/63 [==============================] - 24s 373ms/step - loss: 0.3075 - accuracy: 0.9920 - val_loss: 1.5573 - val_accuracy: 0.9820\n",
            "Epoch 9/30\n",
            "63/63 [==============================] - 24s 374ms/step - loss: 0.1338 - accuracy: 0.9940 - val_loss: 2.0502 - val_accuracy: 0.9790\n",
            "Epoch 10/30\n",
            "63/63 [==============================] - 24s 373ms/step - loss: 0.1032 - accuracy: 0.9965 - val_loss: 2.5444 - val_accuracy: 0.9730\n",
            "Epoch 11/30\n",
            "63/63 [==============================] - 24s 373ms/step - loss: 0.1140 - accuracy: 0.9940 - val_loss: 1.8332 - val_accuracy: 0.9810\n",
            "Epoch 12/30\n",
            "63/63 [==============================] - 24s 373ms/step - loss: 0.0745 - accuracy: 0.9975 - val_loss: 2.1204 - val_accuracy: 0.9790\n",
            "Epoch 13/30\n",
            "63/63 [==============================] - 24s 373ms/step - loss: 0.1939 - accuracy: 0.9950 - val_loss: 2.4763 - val_accuracy: 0.9710\n",
            "Epoch 14/30\n",
            "63/63 [==============================] - 24s 373ms/step - loss: 0.1725 - accuracy: 0.9945 - val_loss: 1.9115 - val_accuracy: 0.9830\n",
            "Epoch 15/30\n",
            "63/63 [==============================] - 24s 373ms/step - loss: 0.0904 - accuracy: 0.9955 - val_loss: 2.2477 - val_accuracy: 0.9760\n",
            "Epoch 16/30\n",
            "63/63 [==============================] - 24s 373ms/step - loss: 0.2211 - accuracy: 0.9930 - val_loss: 1.6956 - val_accuracy: 0.9830\n",
            "Epoch 17/30\n",
            "63/63 [==============================] - 24s 373ms/step - loss: 0.0748 - accuracy: 0.9950 - val_loss: 1.4596 - val_accuracy: 0.9870\n",
            "Epoch 18/30\n",
            "63/63 [==============================] - 24s 375ms/step - loss: 0.1601 - accuracy: 0.9960 - val_loss: 1.5043 - val_accuracy: 0.9840\n",
            "Epoch 19/30\n",
            "63/63 [==============================] - 24s 373ms/step - loss: 0.1138 - accuracy: 0.9960 - val_loss: 1.4647 - val_accuracy: 0.9840\n",
            "Epoch 20/30\n",
            "63/63 [==============================] - 24s 374ms/step - loss: 0.1649 - accuracy: 0.9965 - val_loss: 2.0997 - val_accuracy: 0.9790\n",
            "Epoch 21/30\n",
            "63/63 [==============================] - 24s 373ms/step - loss: 0.2620 - accuracy: 0.9945 - val_loss: 2.4675 - val_accuracy: 0.9770\n",
            "Epoch 22/30\n",
            "63/63 [==============================] - 24s 374ms/step - loss: 0.1368 - accuracy: 0.9965 - val_loss: 2.1364 - val_accuracy: 0.9800\n",
            "Epoch 23/30\n",
            "63/63 [==============================] - 24s 374ms/step - loss: 0.1036 - accuracy: 0.9970 - val_loss: 2.4745 - val_accuracy: 0.9740\n",
            "Epoch 24/30\n",
            "63/63 [==============================] - 24s 373ms/step - loss: 0.1114 - accuracy: 0.9970 - val_loss: 1.5642 - val_accuracy: 0.9810\n",
            "Epoch 25/30\n",
            "63/63 [==============================] - 24s 373ms/step - loss: 0.0569 - accuracy: 0.9975 - val_loss: 1.7677 - val_accuracy: 0.9810\n",
            "Epoch 26/30\n",
            "63/63 [==============================] - 24s 373ms/step - loss: 0.0873 - accuracy: 0.9970 - val_loss: 2.2229 - val_accuracy: 0.9800\n",
            "Epoch 27/30\n",
            "63/63 [==============================] - 24s 374ms/step - loss: 0.0372 - accuracy: 0.9985 - val_loss: 1.5809 - val_accuracy: 0.9800\n",
            "Epoch 28/30\n",
            "63/63 [==============================] - 24s 373ms/step - loss: 0.0997 - accuracy: 0.9965 - val_loss: 1.4508 - val_accuracy: 0.9790\n",
            "Epoch 29/30\n",
            "63/63 [==============================] - 24s 371ms/step - loss: 0.0635 - accuracy: 0.9975 - val_loss: 1.8316 - val_accuracy: 0.9770\n",
            "Epoch 30/30\n",
            "63/63 [==============================] - 24s 374ms/step - loss: 0.0258 - accuracy: 0.9980 - val_loss: 2.7922 - val_accuracy: 0.9710\n"
          ]
        }
      ]
    },
    {
      "cell_type": "code",
      "metadata": {
        "id": "QTO5M9XHLJgK",
        "colab": {
          "base_uri": "https://localhost:8080/"
        },
        "outputId": "2c5ad5d1-eadc-4fd6-b740-bf25c9b4835a"
      },
      "source": [
        "model = keras.models.load_model(\"fine_tuning.keras\")\n",
        "test_loss, test_acc = model.evaluate(test_dataset)\n",
        "print(f\"Test accuracy: {test_acc:.3f}\")"
      ],
      "execution_count": 43,
      "outputs": [
        {
          "output_type": "stream",
          "name": "stdout",
          "text": [
            "32/32 [==============================] - 8s 218ms/step - loss: 1.6795 - accuracy: 0.9780\n",
            "Test accuracy: 0.978\n"
          ]
        }
      ]
    },
    {
      "cell_type": "markdown",
      "metadata": {
        "id": "47PdlIiBTRnO"
      },
      "source": [
        "## Summary\n",
        "\n",
        "### Using a Pre-trained model without Augmentation\n",
        "\n",
        "#### We reach a validation accuracy of about 97.10% which is better than what we achieved while training the small model from scratch. This won’t always be the case when you use pretrained features.\n",
        "#### However, the plots also indicate that we’re overfitting almost from the start—despite using dropout with a fairly large rate. That’s because this technique doesn’t use data augmentation, which is essential for preventing overfitting with small image datasets.\n",
        "\n",
        "### Using a Pre-trained model without Augmentation\n",
        "\n",
        "#### A model’s accuracy always depends on the set of samples one evaluates it on! Some sample sets may be more difficult than others, and strong results on one set won’t necessarily fully translate to all other sets. because of this reason, Pretrained model With Augmentation, there was just a minor increase in the accuracy from 97.70% to 98.10%.\n",
        "\n",
        "### Using Pretrained model with fine tuning\n",
        "#### Here, we get a test accuracy of 97.8%\n",
        "\n",
        "### These accuracy results might change within one percentage range of point."
      ]
    }
  ]
}